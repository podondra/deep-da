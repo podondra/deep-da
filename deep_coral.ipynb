{
 "cells": [
  {
   "cell_type": "code",
   "execution_count": null,
   "metadata": {},
   "outputs": [],
   "source": [
    "from itertools import count\n",
    "\n",
    "import h5py\n",
    "import torch\n",
    "from torch import nn\n",
    "from torch import optim\n",
    "import torch.nn.functional as F\n",
    "from torch.utils.data import DataLoader, TensorDataset\n",
    "from torch.utils.tensorboard import SummaryWriter\n",
    "\n",
    "from qso import dataset, utils"
   ]
  },
  {
   "cell_type": "code",
   "execution_count": null,
   "metadata": {},
   "outputs": [],
   "source": [
    "def cov(data, dev):\n",
    "    n = data.size(0)\n",
    "    cov = torch.ones((1, n)).to(dev) @ data\n",
    "    return (data.t() @ data - (cov.t() @ cov) / n) / (n - 1)\n",
    "\n",
    "def coral(source_data, target_data, dev):\n",
    "    d = source_data.size(1)\n",
    "    source_cov = cov(source_data, dev)\n",
    "    target_cov = cov(target_data, dev)    \n",
    "    return (source_cov - target_cov).pow(2).sum() / (4 * d * d)"
   ]
  },
  {
   "cell_type": "code",
   "execution_count": null,
   "metadata": {},
   "outputs": [],
   "source": [
    "BATCH_SIZE = 64\n",
    "\n",
    "lamost = h5py.File(dataset.LAMOST_DATASET, \"r\")\n",
    "sdss = h5py.File(dataset.SDSS_DATASET, \"r\")\n",
    "\n",
    "source_X = sdss[\"X_va\"][...].reshape(-1, 1, utils.N_WAVELENGTHS)\n",
    "source_y = sdss[\"y_va\"][...].astype(\"f4\")\n",
    "source_tensors = list(map(torch.from_numpy, [source_X, source_y]))\n",
    "source_ds = TensorDataset(*source_tensors)\n",
    "\n",
    "target_X = lamost[\"X_va\"][...].reshape(-1, 1, utils.N_WAVELENGTHS)\n",
    "target_ds = TensorDataset(torch.from_numpy(target_X))\n",
    "\n",
    "source_dl = DataLoader(source_ds, batch_size=BATCH_SIZE, shuffle=True)\n",
    "target_dl = DataLoader(target_ds, batch_size=BATCH_SIZE, shuffle=True)"
   ]
  },
  {
   "cell_type": "code",
   "execution_count": null,
   "metadata": {},
   "outputs": [],
   "source": [
    "class FeatureExtractor(nn.Module):\n",
    "    def __init__(self):\n",
    "        super().__init__()\n",
    "        self.conv1 = nn.Conv1d(1, 32, 5, padding=2)\n",
    "        self.pool1 = nn.MaxPool1d(2, 2)\n",
    "        self.conv2 = nn.Conv1d(32, 48, 5, padding=2)\n",
    "        self.pool2 = nn.MaxPool1d(2, 2)\n",
    "        self.fc1 = nn.Linear(48 * 914, 100)\n",
    "        self.fc2 = nn.Linear(100, 100)\n",
    "\n",
    "    def forward(self, x):\n",
    "        x = F.relu(self.conv1(x))\n",
    "        x = self.pool1(x)\n",
    "        x = F.relu(self.conv2(x))\n",
    "        x = self.pool2(x)\n",
    "        x = torch.flatten(x, 1)\n",
    "        x = F.relu(self.fc1(x))\n",
    "        return self.fc2(x)\n",
    "\n",
    "class Predictor(nn.Module):\n",
    "    def __init__(self):\n",
    "        super().__init__()\n",
    "        self.fc3 = nn.Linear(100, 1)\n",
    "    \n",
    "    def forward(self, x):\n",
    "        x = F.relu(x)\n",
    "        return self.fc3(x)\n",
    "\n",
    "class DeepCORAL(nn.Module):\n",
    "    def __init__(self):\n",
    "        super().__init__()\n",
    "        self.feature_extractor = FeatureExtractor()\n",
    "        self.predictor = Predictor()\n",
    "        \n",
    "    def forward(self, x):\n",
    "        x = self.feature_extractor(x)\n",
    "        return self.predictor(x)"
   ]
  },
  {
   "cell_type": "code",
   "execution_count": null,
   "metadata": {},
   "outputs": [],
   "source": [
    "LAMBDA = 1000   # TODO classification and CORAL loss should be similar\n",
    "writer = SummaryWriter(\"runs/deep_coral\")\n",
    "dev = torch.device(\"cuda\")\n",
    "\n",
    "deep_coral = DeepCORAL().to(dev)\n",
    "deep_coral.feature_extractor.apply(utils.init_weights)\n",
    "deep_coral.predictor.apply(utils.init_weights)\n",
    "\n",
    "opt = optim.Adam(deep_coral.parameters())\n",
    "iterator = count(1)"
   ]
  },
  {
   "cell_type": "code",
   "execution_count": null,
   "metadata": {},
   "outputs": [],
   "source": [
    "for i, (source_data, source_label), (target_data,) in zip(iterator, source_dl, target_dl):\n",
    "    source_data, source_label = source_data.to(dev), source_label.to(dev)\n",
    "    target_data = target_data.to(dev)\n",
    "    \n",
    "    opt.zero_grad()\n",
    "    \n",
    "    source_features = deep_coral.feature_extractor(source_data)\n",
    "    pred = deep_coral.predictor(source_features)\n",
    "    target_features = deep_coral.feature_extractor(target_data)\n",
    "    \n",
    "    loss_class = F.binary_cross_entropy_with_logits(pred, source_label.unsqueeze(-1))\n",
    "    loss_coral = coral(source_features, target_features, dev)\n",
    "    loss = loss_class + LAMBDA * loss_coral\n",
    "\n",
    "    loss.backward()\n",
    "    opt.step()\n",
    "\n",
    "    writer.add_scalar(\"loss/class\", loss_class, i)\n",
    "    writer.add_scalar(\"loss/coral\", LAMBDA * loss_coral, i)"
   ]
  }
 ],
 "metadata": {
  "kernelspec": {
   "display_name": "Python 3",
   "language": "python",
   "name": "python3"
  },
  "language_info": {
   "codemirror_mode": {
    "name": "ipython",
    "version": 3
   },
   "file_extension": ".py",
   "mimetype": "text/x-python",
   "name": "python",
   "nbconvert_exporter": "python",
   "pygments_lexer": "ipython3",
   "version": "3.5.3"
  }
 },
 "nbformat": 4,
 "nbformat_minor": 4
}
