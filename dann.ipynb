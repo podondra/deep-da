{
 "cells": [
  {
   "cell_type": "code",
   "execution_count": null,
   "metadata": {},
   "outputs": [],
   "source": [
    "from itertools import count\n",
    "\n",
    "import h5py\n",
    "import numpy as np\n",
    "import torch\n",
    "from torch import nn\n",
    "from torch import optim\n",
    "from torch import autograd\n",
    "from torch.autograd import gradcheck\n",
    "import torch.nn.functional as F\n",
    "from torch.utils.data import DataLoader, TensorDataset\n",
    "from torch.utils.tensorboard import SummaryWriter\n",
    "\n",
    "from qso import dataset\n",
    "from qso import utils"
   ]
  },
  {
   "cell_type": "code",
   "execution_count": null,
   "metadata": {},
   "outputs": [],
   "source": [
    "class GradientReversalFunction(autograd.Function):\n",
    "    @staticmethod\n",
    "    def forward(ctx, x):\n",
    "        return x\n",
    "        \n",
    "    @staticmethod\n",
    "    def backward(ctx, grad_output):\n",
    "        return grad_output.neg()\n",
    "\n",
    "rev_grad = GradientReversalFunction.apply"
   ]
  },
  {
   "cell_type": "code",
   "execution_count": null,
   "metadata": {},
   "outputs": [],
   "source": [
    "class FeatureExtractor(nn.Module):\n",
    "    def __init__(self):\n",
    "        super().__init__()\n",
    "        self.conv1 = nn.Conv1d(in_channels=1, out_channels=32, kernel_size=5)\n",
    "        self.pool1 = nn.MaxPool1d(kernel_size=2, stride=2)\n",
    "        self.conv2 = nn.Conv1d(32, 48, 5)\n",
    "        self.pool2 = nn.MaxPool1d(2, 2)\n",
    "\n",
    "    def forward(self, x):\n",
    "        x = self.conv1(x)\n",
    "        x = F.relu(x)\n",
    "        x = self.pool1(x)\n",
    "        x = self.conv2(x)\n",
    "        x = F.relu(x)\n",
    "        x = self.pool2(x)\n",
    "        x = torch.flatten(x, 1)\n",
    "        return x\n",
    "\n",
    "class LabelPredictor(nn.Module):\n",
    "    def __init__(self):\n",
    "        super().__init__()\n",
    "        self.fc1 = nn.Linear(48 * 911, 100)\n",
    "        self.fc2 = nn.Linear(100, 100)\n",
    "        self.fc3 = nn.Linear(100, 1)\n",
    "\n",
    "    def forward(self, x):\n",
    "        x = self.fc1(x)\n",
    "        x = F.relu(x)\n",
    "        x = self.fc2(x)\n",
    "        x = F.relu(x)\n",
    "        x = self.fc3(x)\n",
    "        return x\n",
    "\n",
    "class DomainClassifier(nn.Module):\n",
    "    def __init__(self):\n",
    "        super().__init__()\n",
    "        self.fc1 = nn.Linear(48 * 911, 100)\n",
    "        self.fc2 = nn.Linear(100, 1)\n",
    "\n",
    "    def forward(self, x):\n",
    "        x = rev_grad(x)\n",
    "        x = self.fc1(x)\n",
    "        x = F.relu(x)\n",
    "        x = self.fc2(x)\n",
    "        return x\n",
    "\n",
    "class DANN(nn.Module):\n",
    "    def __init__(self):\n",
    "        super().__init__()\n",
    "        self.feature_extractor = FeatureExtractor()\n",
    "        self.label_predictor = LabelPredictor()\n",
    "        self.domain_classifier = DomainClassifier()\n",
    "    \n",
    "    def forward(self, x):\n",
    "        x = self.feature_extractor(x)\n",
    "        x = self.label_predictor(x)\n",
    "        return x"
   ]
  },
  {
   "cell_type": "code",
   "execution_count": null,
   "metadata": {},
   "outputs": [],
   "source": [
    "BATCH_SIZE = 64"
   ]
  },
  {
   "cell_type": "code",
   "execution_count": null,
   "metadata": {},
   "outputs": [],
   "source": [
    "lamost = h5py.File(dataset.LAMOST_DATASET, \"r\")\n",
    "sdss = h5py.File(dataset.SDSS_DATASET, \"r\")\n",
    "\n",
    "source_X = sdss[\"X_va\"][...].reshape(-1, 1, utils.N_WAVELENGTHS)\n",
    "source_y = sdss[\"y_va\"][...].astype(\"f4\")\n",
    "source_tensors = list(map(torch.from_numpy, [source_X, source_y]))\n",
    "source_ds = TensorDataset(*source_tensors)\n",
    "\n",
    "target_X = lamost[\"X_va\"][...].reshape(-1, 1, utils.N_WAVELENGTHS)\n",
    "target_ds = TensorDataset(torch.from_numpy(target_X))\n",
    "\n",
    "source_dl = DataLoader(source_ds, batch_size=BATCH_SIZE, shuffle=True)\n",
    "target_dl = DataLoader(target_ds, batch_size=BATCH_SIZE, shuffle=True)"
   ]
  },
  {
   "cell_type": "code",
   "execution_count": null,
   "metadata": {},
   "outputs": [],
   "source": [
    "def init_weights(m):\n",
    "    if type(m) == nn.Conv1d:\n",
    "        nn.init.xavier_uniform_(m.weight.data)\n",
    "        m.bias.data.fill_(0)\n",
    "    elif type(m) == nn.Linear:\n",
    "        nn.init.xavier_uniform_(m.weight.data)\n",
    "        m.bias.data.fill_(0)"
   ]
  },
  {
   "cell_type": "code",
   "execution_count": null,
   "metadata": {},
   "outputs": [],
   "source": [
    "GAMMA = 10\n",
    "p = 1    # TODO compute\n",
    "lam = (2 / (1 + np.exp(-GAMMA * p))) - 1\n",
    "\n",
    "writer = SummaryWriter(\"runs/dann\")\n",
    "dev = torch.device(\"cuda\")\n",
    "\n",
    "dann = DANN().to(dev)\n",
    "dann.feature_extractor.apply(init_weights)\n",
    "dann.label_predictor.apply(init_weights)\n",
    "dann.domain_classifier.apply(init_weights)\n",
    "\n",
    "opt = optim.Adam(dann.parameters())\n",
    "\n",
    "prediction_loss = F.binary_cross_entropy_with_logits\n",
    "domain_loss = F.binary_cross_entropy_with_logits\n",
    "\n",
    "iterator = count(1)"
   ]
  },
  {
   "cell_type": "code",
   "execution_count": null,
   "metadata": {},
   "outputs": [],
   "source": [
    "lam"
   ]
  },
  {
   "cell_type": "code",
   "execution_count": null,
   "metadata": {},
   "outputs": [],
   "source": [
    "domain_label = torch.cat([torch.zeros(BATCH_SIZE), torch.ones(BATCH_SIZE)]).unsqueeze(-1).to(dev)\n",
    "\n",
    "for i, (source_data, source_label), (target_data,) in zip(iterator, source_dl, target_dl):\n",
    "    source_data, source_label = source_data.to(dev), source_label.to(dev)\n",
    "    target_data = target_data.to(dev)\n",
    "\n",
    "    opt.zero_grad()\n",
    "\n",
    "    # concat source and target data\n",
    "    data = torch.cat([source_data, target_data])\n",
    "    features = dann.feature_extractor(data)\n",
    "    domain_pred = dann.domain_classifier(features)\n",
    "    loss_dom = domain_loss(domain_pred, domain_label)\n",
    "   \n",
    "    pred = dann(source_data)\n",
    "    loss_pred = prediction_loss(pred, source_label.unsqueeze(-1))\n",
    "\n",
    "    loss = loss_pred + lam * loss_dom\n",
    "    \n",
    "    loss.backward()\n",
    "    opt.step()\n",
    "    \n",
    "    writer.add_scalar(\"loss/domain\", loss_dom, i)\n",
    "    writer.add_scalar(\"loss/prediction\", loss_pred, i)"
   ]
  }
 ],
 "metadata": {
  "kernelspec": {
   "display_name": "Python 3",
   "language": "python",
   "name": "python3"
  },
  "language_info": {
   "codemirror_mode": {
    "name": "ipython",
    "version": 3
   },
   "file_extension": ".py",
   "mimetype": "text/x-python",
   "name": "python",
   "nbconvert_exporter": "python",
   "pygments_lexer": "ipython3",
   "version": "3.5.3"
  }
 },
 "nbformat": 4,
 "nbformat_minor": 4
}
