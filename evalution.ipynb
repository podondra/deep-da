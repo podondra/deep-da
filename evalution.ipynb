{
 "cells": [
  {
   "cell_type": "code",
   "execution_count": 1,
   "metadata": {},
   "outputs": [],
   "source": [
    "from pathlib import Path\n",
    "\n",
    "import h5py\n",
    "import numpy as np\n",
    "from matplotlib import rc\n",
    "import matplotlib.pyplot as plt\n",
    "from sklearn.metrics import confusion_matrix\n",
    "import torch\n",
    "from torch import nn\n",
    "import torch.nn.functional as F\n",
    "from torch.utils.data import DataLoader\n",
    "\n",
    "from qso.utils import load_ds, predict, WAVES"
   ]
  },
  {
   "cell_type": "code",
   "execution_count": 2,
   "metadata": {},
   "outputs": [],
   "source": [
    "rc(\"font\", family=\"serif\")\n",
    "rc(\"text\", usetex=True)\n",
    "rc(\"font\", size=16)"
   ]
  },
  {
   "cell_type": "code",
   "execution_count": 3,
   "metadata": {},
   "outputs": [],
   "source": [
    "ds_file = Path(\"data\") / \"dataset.hdf5\"\n",
    "bs_eval = 2048\n",
    "\n",
    "src_ds_va = load_ds(ds_file, \"sdss\", va=True)\n",
    "src_dl_va = DataLoader(src_ds_va, batch_size=bs_eval)\n",
    "\n",
    "trg_ds_va = load_ds(ds_file, \"lamost\", va=True)\n",
    "trg_dl_va = DataLoader(trg_ds_va, batch_size=bs_eval)"
   ]
  },
  {
   "cell_type": "code",
   "execution_count": 4,
   "metadata": {},
   "outputs": [],
   "source": [
    "with h5py.File(ds_file, \"r\") as f:\n",
    "    trg_id_va = f[\"lamost/id_va\"][:]\n",
    "    src_id_va = f[\"sdss/id_va\"][:]"
   ]
  },
  {
   "cell_type": "code",
   "execution_count": 5,
   "metadata": {},
   "outputs": [
    {
     "data": {
      "text/plain": [
       "<All keys matched successfully>"
      ]
     },
     "execution_count": 5,
     "metadata": {},
     "output_type": "execute_result"
    }
   ],
   "source": [
    "class LeNet_5(nn.Module):\n",
    "    def __init__(self):\n",
    "        super().__init__()\n",
    "        self.conv1 = nn.Conv1d(1, 32, 5, padding=2)\n",
    "        self.pool1 = nn.MaxPool1d(16, 16)\n",
    "        self.conv2 = nn.Conv1d(32, 48, 5, padding=2)\n",
    "        self.pool2 = nn.MaxPool1d(16, 16)\n",
    "        self.fc1 = nn.Linear(48 * 14, 100)\n",
    "        self.fc2 = nn.Linear(100, 100)\n",
    "        self.fc3 = nn.Linear(100, 1)\n",
    "    \n",
    "    def forward_conv(self, x):\n",
    "        x = F.relu(self.conv1(x))\n",
    "        x = self.pool1(x)\n",
    "        x = F.relu(self.conv2(x))\n",
    "        x = self.pool2(x)\n",
    "        x = torch.flatten(x, 1)\n",
    "        return x\n",
    "\n",
    "    def forward_fc1(self, x):\n",
    "        x = self.forward_conv(x)\n",
    "        x = F.relu(self.fc1(x))\n",
    "        return x\n",
    "\n",
    "    def forward_fc2(self, x):\n",
    "        x = self.forward_fc1(x)\n",
    "        x = F.relu(self.fc2(x))\n",
    "        return x\n",
    "\n",
    "    def forward(self, x):\n",
    "        x = self.forward_fc2(x)\n",
    "        x = self.fc3(x)\n",
    "        return x\n",
    "\n",
    "def mmd(src_f, trg_f):\n",
    "    mmd = src_f.sum(axis=0) / src_f.size(0) - trg_f.sum(axis=0) / trg_f.size(0)\n",
    "    return mmd @ mmd.T\n",
    "\n",
    "def eval_layer(layer, src_dl, trg_dl, bottleneck, dev):\n",
    "    assert src_dl.batch_size == trg_dl.batch_size\n",
    "    bs = src_dl.batch_size\n",
    "    src_fs = torch.zeros(src_dl.dataset.tensors[0].size(0), bottleneck)\n",
    "    trg_fs = torch.zeros(trg_dl.dataset.tensors[0].size(0), bottleneck)\n",
    "    for i, ((src_xb, _), (trg_xb, _)) in enumerate(zip(src_dl, trg_dl)):\n",
    "        start = i * bs\n",
    "        end = start + bs\n",
    "        src_fs[start:end] = layer(src_xb.to(dev)).squeeze()\n",
    "        trg_fs[start:end] = layer(trg_xb.to(dev)).squeeze()\n",
    "    return torch.sqrt(mmd(src_fs, trg_fs)).item()\n",
    "\n",
    "dev = torch.device(\"cuda\")\n",
    "lenet = LeNet_5().to(dev)\n",
    "lenet_pt = Path(\"models\") / \"lenet-5.pt\"\n",
    "lenet.load_state_dict(torch.load(lenet_pt))"
   ]
  },
  {
   "cell_type": "code",
   "execution_count": 6,
   "metadata": {},
   "outputs": [],
   "source": [
    "with torch.no_grad():\n",
    "    src_true_va, src_pred_va = predict(lenet, src_dl_va, dev)\n",
    "    trg_true_va, trg_pred_va = predict(lenet, trg_dl_va, dev)"
   ]
  },
  {
   "cell_type": "code",
   "execution_count": null,
   "metadata": {},
   "outputs": [],
   "source": [
    "fig_dir = Path(\"figs\")"
   ]
  },
  {
   "cell_type": "markdown",
   "metadata": {},
   "source": [
    "# Source Errors"
   ]
  },
  {
   "cell_type": "code",
   "execution_count": 7,
   "metadata": {},
   "outputs": [
    {
     "data": {
      "text/plain": [
       "array([[42916,   532],\n",
       "       [  274,  6278]])"
      ]
     },
     "execution_count": 7,
     "metadata": {},
     "output_type": "execute_result"
    }
   ],
   "source": [
    "src_X = src_ds_va.tensors[0].squeeze()\n",
    "src_y_true = src_true_va.bool()\n",
    "src_y_pred = src_pred_va > 0\n",
    "\n",
    "confusion_matrix(src_y_true, src_y_pred)"
   ]
  },
  {
   "cell_type": "code",
   "execution_count": 8,
   "metadata": {},
   "outputs": [
    {
     "data": {
      "text/plain": [
       "(torch.Size([274, 3659]), torch.Size([532, 3659]))"
      ]
     },
     "execution_count": 8,
     "metadata": {},
     "output_type": "execute_result"
    }
   ],
   "source": [
    "src_fn_idx = (src_y_true == True) & (src_y_pred == False)\n",
    "src_fn_X = src_X[src_fn_idx]\n",
    "src_fn_id = src_id_va[src_fn_idx]\n",
    "\n",
    "src_fp_idx = (src_y_true == False) & (src_y_pred == True)\n",
    "src_fp_X = src_X[src_fp_idx]\n",
    "src_fp_id = src_id_va[src_fp_idx]\n",
    "src_fn_X.size(), src_fp_X.size()"
   ]
  },
  {
   "cell_type": "code",
   "execution_count": 12,
   "metadata": {},
   "outputs": [],
   "source": [
    "import pandas as pd"
   ]
  },
  {
   "cell_type": "code",
   "execution_count": null,
   "metadata": {},
   "outputs": [],
   "source": [
    "plot_random(src_fn, 6)\n",
    "plt.savefig(str(fig_dir / \"source_fn.pdf\"))"
   ]
  },
  {
   "cell_type": "code",
   "execution_count": null,
   "metadata": {},
   "outputs": [],
   "source": [
    "plot_random(src_fp, 6)\n",
    "plt.savefig(str(fig_dir / \"source_fp.pdf\"))"
   ]
  },
  {
   "cell_type": "markdown",
   "metadata": {},
   "source": [
    "# Target Errors "
   ]
  },
  {
   "cell_type": "code",
   "execution_count": 21,
   "metadata": {},
   "outputs": [
    {
     "data": {
      "text/plain": [
       "array([[48873,   937],\n",
       "       [   44,   146]])"
      ]
     },
     "execution_count": 21,
     "metadata": {},
     "output_type": "execute_result"
    }
   ],
   "source": [
    "trg_X = trg_ds_va.tensors[0].squeeze()\n",
    "trg_y_true = trg_true_va.bool()\n",
    "trg_y_pred = trg_pred_va > 0\n",
    "\n",
    "confusion_matrix(trg_y_true, trg_y_pred)"
   ]
  },
  {
   "cell_type": "code",
   "execution_count": 22,
   "metadata": {},
   "outputs": [
    {
     "data": {
      "text/plain": [
       "(torch.Size([44, 3659]), torch.Size([937, 3659]))"
      ]
     },
     "execution_count": 22,
     "metadata": {},
     "output_type": "execute_result"
    }
   ],
   "source": [
    "trg_fn_idx = (trg_y_true == True) & (trg_y_pred == False)\n",
    "trg_fn_X = trg_X[trg_fn_idx]\n",
    "trg_fn_id = trg_id_va[trg_fn_idx]\n",
    "\n",
    "trg_fp_idx = (trg_y_true == False) & (trg_y_pred == True)\n",
    "trg_fp_X = trg_X[trg_fp_idx]\n",
    "trg_fp_id = trg_id_va[trg_fp_idx]\n",
    "trg_fn_X.size(), trg_fp_X.size()"
   ]
  },
  {
   "cell_type": "code",
   "execution_count": null,
   "metadata": {},
   "outputs": [],
   "source": [
    "str(fig_dir / trg_fn_id[idx].decode()[:-8]) + \".pdf\""
   ]
  },
  {
   "cell_type": "code",
   "execution_count": null,
   "metadata": {},
   "outputs": [],
   "source": [
    "SIZE = 15\n",
    "idxs = np.random.choice(trg_fp_X.size(0), size=SIZE, replace=False)\n",
    "\n",
    "for idx in idxs:\n",
    "    plt.figure(figsize=[2 * 6.4, 4.8 * 0.6])\n",
    "    plt.plot(WAVES, trg_fp_X[idx])\n",
    "    plt.ylabel(\"Scaled flux\")\n",
    "    plt.xlabel(\"Vacuum wavelength (\\AA{})\")\n",
    "    plt.tight_layout()\n",
    "    plt.savefig(str(fig_dir / trg_fp_id[idx].decode()[:-8]) + \".pdf\")"
   ]
  },
  {
   "cell_type": "code",
   "execution_count": null,
   "metadata": {},
   "outputs": [],
   "source": [
    "def plot_spec(specs, size):\n",
    "    fig, axs = plt.subplots(nrows=size, sharex=True,\n",
    "                            figsize=[6.4, (size / 3) * 4.8])\n",
    "    spec_idxs = np.random.choice(specs.size(0), size=size,\n",
    "                                 replace=False)\n",
    "    for ax, spec in zip(axs.flatten(), specs[spec_idxs]):\n",
    "        ax.plot(WAVES, spec)\n",
    "        ax.set_ylabel(\"Scaled flux\")\n",
    "    ax.set_xlabel(\"Wavelength (\\AA{})\")"
   ]
  }
 ],
 "metadata": {
  "kernelspec": {
   "display_name": "Python 3",
   "language": "python",
   "name": "python3"
  },
  "language_info": {
   "codemirror_mode": {
    "name": "ipython",
    "version": 3
   },
   "file_extension": ".py",
   "mimetype": "text/x-python",
   "name": "python",
   "nbconvert_exporter": "python",
   "pygments_lexer": "ipython3",
   "version": "3.5.3"
  }
 },
 "nbformat": 4,
 "nbformat_minor": 4
}
