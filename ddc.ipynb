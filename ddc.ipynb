{
 "cells": [
  {
   "cell_type": "code",
   "execution_count": 12,
   "metadata": {},
   "outputs": [],
   "source": [
    "from functools import partial\n",
    "from pathlib import Path\n",
    "\n",
    "import h5py\n",
    "import numpy as np\n",
    "from matplotlib import rc\n",
    "import matplotlib.pyplot as plt\n",
    "from sklearn.metrics import f1_score\n",
    "import torch\n",
    "from torch import nn, optim\n",
    "import torch.nn.functional as F\n",
    "from torch.utils.data import DataLoader\n",
    "from torch.utils.tensorboard import SummaryWriter\n",
    "\n",
    "from qso.utils import init_weights, load_ds, predict"
   ]
  },
  {
   "cell_type": "code",
   "execution_count": 13,
   "metadata": {},
   "outputs": [],
   "source": [
    "rc(\"font\", family=\"serif\")\n",
    "rc(\"text\", usetex=True)"
   ]
  },
  {
   "cell_type": "code",
   "execution_count": 2,
   "metadata": {},
   "outputs": [],
   "source": [
    "ds_file = Path(\"data\") / \"dataset.hdf5\"\n",
    "bs = 64\n",
    "bs_eval = 2048\n",
    "\n",
    "src_dl = DataLoader(load_ds(ds_file, \"sdss\"), batch_size=bs, shuffle=True)\n",
    "trg_dl = DataLoader(load_ds(ds_file, \"lamost\"), batch_size=bs, shuffle=True)\n",
    "src_dl_va = DataLoader(load_ds(ds_file, \"sdss\", va=True), batch_size=bs_eval)\n",
    "trg_dl_va = DataLoader(load_ds(ds_file, \"lamost\", va=True), batch_size=bs_eval)"
   ]
  },
  {
   "cell_type": "code",
   "execution_count": 3,
   "metadata": {},
   "outputs": [
    {
     "data": {
      "text/plain": [
       "(41.90813446044922, 39.49795150756836)"
      ]
     },
     "execution_count": 3,
     "metadata": {},
     "output_type": "execute_result"
    }
   ],
   "source": [
    "class LeNet_5(nn.Module):\n",
    "    def __init__(self):\n",
    "        super().__init__()\n",
    "        self.conv1 = nn.Conv1d(1, 32, 5, padding=2)\n",
    "        self.pool1 = nn.MaxPool1d(16, 16)\n",
    "        self.conv2 = nn.Conv1d(32, 48, 5, padding=2)\n",
    "        self.pool2 = nn.MaxPool1d(16, 16)\n",
    "        self.fc1 = nn.Linear(48 * 14, 100)\n",
    "        self.fc2 = nn.Linear(100, 100)\n",
    "        self.fc3 = nn.Linear(100, 1)\n",
    "    \n",
    "    def forward_conv(self, x):\n",
    "        x = F.relu(self.conv1(x))\n",
    "        x = self.pool1(x)\n",
    "        x = F.relu(self.conv2(x))\n",
    "        x = self.pool2(x)\n",
    "        x = torch.flatten(x, 1)\n",
    "        return x\n",
    "\n",
    "    def forward_fc1(self, x):\n",
    "        x = self.forward_conv(x)\n",
    "        x = F.relu(self.fc1(x))\n",
    "        return x\n",
    "\n",
    "    def forward_fc2(self, x):\n",
    "        x = self.forward_fc1(x)\n",
    "        x = F.relu(self.fc2(x))\n",
    "        return x\n",
    "\n",
    "    def forward(self, x):\n",
    "        x = self.forward_fc2(x)\n",
    "        x = self.fc3(x)\n",
    "        return x\n",
    "\n",
    "def mmd(src_f, trg_f):\n",
    "    mmd = src_f.sum(axis=0) / src_f.size(0) - trg_f.sum(axis=0) / trg_f.size(0)\n",
    "    return mmd @ mmd.T\n",
    "\n",
    "def eval_layer(layer, src_dl, trg_dl, bottleneck, dev):\n",
    "    assert src_dl.batch_size == trg_dl.batch_size\n",
    "    bs = src_dl.batch_size\n",
    "    src_fs = torch.zeros(src_dl.dataset.tensors[0].size(0), bottleneck)\n",
    "    trg_fs = torch.zeros(trg_dl.dataset.tensors[0].size(0), bottleneck)\n",
    "    for i, ((src_xb, _), (trg_xb, _)) in enumerate(zip(src_dl, trg_dl)):\n",
    "        start = i * bs\n",
    "        end = start + bs\n",
    "        src_fs[start:end] = layer(src_xb.to(dev)).squeeze()\n",
    "        trg_fs[start:end] = layer(trg_xb.to(dev)).squeeze()\n",
    "    return torch.sqrt(mmd(src_fs, trg_fs)).item()\n",
    "\n",
    "dev = torch.device(\"cuda\")\n",
    "lenet = LeNet_5().to(dev)\n",
    "lenet_pt = Path(\"models\") / \"lenet-5.pt\"\n",
    "lenet.load_state_dict(torch.load(lenet_pt))\n",
    "with torch.no_grad():\n",
    "    fc1_mmd = eval_layer(lenet.forward_fc1, src_dl_va, trg_dl_va, 100, dev)\n",
    "    fc2_mmd = eval_layer(lenet.forward_fc2, src_dl_va, trg_dl_va, 100, dev)\n",
    "fc1_mmd, fc2_mmd"
   ]
  },
  {
   "cell_type": "code",
   "execution_count": 4,
   "metadata": {},
   "outputs": [],
   "source": [
    "class FeatureExtractor(nn.Module):\n",
    "    def __init__(self, bottleneck):\n",
    "        super().__init__()\n",
    "        self.conv1 = nn.Conv1d(1, 32, 5, padding=2)\n",
    "        self.pool1 = nn.MaxPool1d(16, 16)\n",
    "        self.conv2 = nn.Conv1d(32, 48, 5, padding=2)\n",
    "        self.pool2 = nn.MaxPool1d(16, 16)\n",
    "        self.fc1 = nn.Linear(48 * 14, 100)\n",
    "        self.fc2 = nn.Linear(100, 100)\n",
    "        self.bottleneck = nn.Linear(100, bottleneck)\n",
    "\n",
    "    def forward(self, x):\n",
    "        x = F.relu(self.conv1(x))\n",
    "        x = self.pool1(x)\n",
    "        x = F.relu(self.conv2(x))\n",
    "        x = self.pool2(x)\n",
    "        x = torch.flatten(x, 1)\n",
    "        x = F.relu(self.fc1(x))\n",
    "        x = F.relu(self.fc2(x))\n",
    "        x = F.relu(self.bottleneck(x))\n",
    "        return x\n",
    "\n",
    "class Predictor(nn.Module):\n",
    "    def __init__(self, bottleneck):\n",
    "        super().__init__()\n",
    "        self.fc3 = nn.Linear(bottleneck, 1)\n",
    "\n",
    "    def forward(self, x):\n",
    "        x = self.fc3(x)\n",
    "        return x\n",
    "\n",
    "class DDC(nn.Module):\n",
    "    def __init__(self, bottleneck):\n",
    "        super().__init__()\n",
    "        self.feature_extractor = FeatureExtractor(bottleneck)\n",
    "        self.predictor = Predictor(bottleneck)\n",
    "\n",
    "    def forward(self, x):\n",
    "        x = self.feature_extractor(x)\n",
    "        x = self.predictor(x)\n",
    "        return x"
   ]
  },
  {
   "cell_type": "code",
   "execution_count": 5,
   "metadata": {},
   "outputs": [],
   "source": [
    "dev = torch.device(\"cuda\")\n",
    "criterion = nn.BCEWithLogitsLoss()\n",
    "\n",
    "bottlenecks, mmds = [2, 4, 8, 16, 32, 64], []\n",
    "for bottleneck in bottlenecks:\n",
    "    model = DDC(bottleneck).to(dev)\n",
    "    model.apply(init_weights)\n",
    "    opt = optim.Adam(model.parameters())\n",
    "    writer = SummaryWriter(comment=\"_ddc\")\n",
    "    \n",
    "    epochs = 20\n",
    "    for epoch in range(1, epochs + 1):\n",
    "        for xb, yb in src_dl:\n",
    "            xb, yb = xb.to(dev), yb.to(dev)\n",
    "            loss = criterion(model(xb), yb.unsqueeze(-1))\n",
    "            loss.backward()\n",
    "            opt.step()\n",
    "            opt.zero_grad()\n",
    "\n",
    "        with torch.no_grad():\n",
    "            mmd_value = eval_layer(model.feature_extractor, src_dl_va, trg_dl_va, bottleneck, dev)\n",
    "            src_trues_va, src_preds_va = predict(model, src_dl_va, dev)\n",
    "\n",
    "        writer.add_scalar(\"loss/validation\", criterion(src_preds_va, src_trues_va), epoch)\n",
    "        writer.add_scalar(\"loss/mmd\", mmd_value, epoch)\n",
    "\n",
    "    mmds.append(mmd_value)\n",
    "    torch.save(model.state_dict(), \"ddc_{:02d}.pt\".format(bottleneck))"
   ]
  },
  {
   "cell_type": "code",
   "execution_count": 14,
   "metadata": {},
   "outputs": [
    {
     "data": {
      "image/png": "[encoded data removed]",
      "text/plain": [
       "<Figure size 432x288 with 1 Axes>"
      ]
     },
     "metadata": {
      "needs_background": "light"
     },
     "output_type": "display_data"
    }
   ],
   "source": [
    "ax = plt.axes(\n",
    "    xlabel=\"Width of the adaptation layer\",\n",
    "    ylabel=\"Maximum mean discrepancy\",\n",
    "    xticks=bottlenecks\n",
    ")\n",
    "ax.plot(bottlenecks, mmds, 'o')\n",
    "ax.grid(True)\n",
    "plt.savefig(str(Path(\"figs\") / \"adaptation_layer_width.pdf\"))"
   ]
  },
  {
   "cell_type": "code",
   "execution_count": 9,
   "metadata": {},
   "outputs": [],
   "source": [
    "def loss_clf_mmd(model, src_dl, trg_dl, bottleneck, dev):\n",
    "    assert src_dl.batch_size == trg_dl.batch_size\n",
    "    bs = src_dl.batch_size\n",
    "    y_true = torch.zeros(src_dl.dataset.tensors[0].size(0))\n",
    "    y_pred = torch.zeros_like(y_true)\n",
    "    src_fs = torch.zeros(src_dl.dataset.tensors[0].size(0), bottleneck)\n",
    "    trg_fs = torch.zeros_like(src_fs)\n",
    "    for i, ((src_xb, src_yb), (trg_xb, _)) in enumerate(zip(src_dl, trg_dl)):\n",
    "        src_xb, src_yb, trg_xb = src_xb.to(dev), src_yb.to(dev), trg_xb.to(dev)\n",
    "        start = i * bs\n",
    "        end = start + bs\n",
    "        src_fb = model.feature_extractor(src_xb)\n",
    "        src_fs[start:end] = src_fb\n",
    "        trg_fs[start:end] = model.feature_extractor(trg_xb)\n",
    "        y_true[start:end] = src_yb\n",
    "        y_pred[start:end] = model.predictor(src_fb).squeeze()\n",
    "    loss_clf = criterion(y_pred, y_true)\n",
    "    loss_mmd = mmd(src_fs, trg_fs)\n",
    "    return loss_clf, loss_mmd"
   ]
  },
  {
   "cell_type": "code",
   "execution_count": null,
   "metadata": {},
   "outputs": [],
   "source": [
    "dev = torch.device(\"cuda\")\n",
    "criterion = nn.BCEWithLogitsLoss()\n",
    "bottleneck = 8\n",
    "model = DDC(bottleneck).to(dev)\n",
    "model.apply(init_weights)\n",
    "opt = optim.Adam(model.parameters())\n",
    "\n",
    "writer = SummaryWriter(comment=\"_ddc\")\n",
    "\n",
    "lam = 0.25\n",
    "epochs = 20\n",
    "for epoch in range(1, epochs + 1):\n",
    "    for (src_xb, src_yb), (trg_xb, _) in zip(src_dl, trg_dl):\n",
    "        src_xb, src_yb, trg_xb = src_xb.to(dev), src_yb.to(dev), trg_xb.to(dev)\n",
    "        src_fb, trg_fb = model.feature_extractor(src_xb), model.feature_extractor(trg_xb)\n",
    "        loss_clf = criterion(model.predictor(src_fb), src_yb.unsqueeze(-1))\n",
    "        loss_mmd = mmd(src_fb, trg_fb)\n",
    "        loss = loss_clf + lam * loss_mmd\n",
    "        loss.backward()\n",
    "        opt.step()\n",
    "        opt.zero_grad()\n",
    "\n",
    "    with torch.no_grad():\n",
    "        loss_clf, loss_mmd = loss_clf_mmd(model, src_dl, trg_dl, bottleneck, dev)\n",
    "        src_trues_va, src_preds_va = predict(model, src_dl_va, dev)\n",
    "        trg_trues_va, trg_preds_va = predict(model, trg_dl_va, dev)\n",
    "\n",
    "    writer.add_scalars(\"loss\", {\"training\": loss_clf,\n",
    "                                \"mmd\": loss_mmd,\n",
    "                                \"validation\": criterion(src_preds_va, src_trues_va)}, epoch)\n",
    "    writer.add_scalars(\"f1\", {\"source\": f1_score(src_trues_va.bool(), src_preds_va > 0),\n",
    "                              \"target\": f1_score(trg_trues_va.bool(), trg_preds_va > 0)}, epoch)\n",
    "\n",
    "    torch.save(model.state_dict(), \"ddc_{:02d}-epoch.pt\".format(epoch))"
   ]
  }
 ],
 "metadata": {
  "kernelspec": {
   "display_name": "Python 3",
   "language": "python",
   "name": "python3"
  },
  "language_info": {
   "codemirror_mode": {
    "name": "ipython",
    "version": 3
   },
   "file_extension": ".py",
   "mimetype": "text/x-python",
   "name": "python",
   "nbconvert_exporter": "python",
   "pygments_lexer": "ipython3",
   "version": "3.5.3"
  }
 },
 "nbformat": 4,
 "nbformat_minor": 4
}
