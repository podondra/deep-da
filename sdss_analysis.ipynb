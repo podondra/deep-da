{
 "cells": [
  {
   "cell_type": "code",
   "execution_count": 1,
   "metadata": {},
   "outputs": [],
   "source": [
    "from functools import reduce\n",
    "from os import path\n",
    "\n",
    "from astropy.io import fits\n",
    "import h5py\n",
    "import matplotlib.pyplot as plt\n",
    "import numpy as np\n",
    "import pandas as pd\n",
    "from tqdm.notebook import tqdm_notebook\n",
    "\n",
    "from qso.utils import WAVEMIN, WAVEMAX\n",
    "from qso import sdss"
   ]
  },
  {
   "cell_type": "code",
   "execution_count": 2,
   "metadata": {},
   "outputs": [],
   "source": [
    "SDSS_DIR = path.join(\"data\", \"sdss\")\n",
    "SDSS_DR14 = path.join(SDSS_DIR, \"sdss_dr14\")\n",
    "SDSS_CATALOG = path.join(SDSS_DIR, \"specObj-dr14.fits\")\n",
    "SDSS_QSO_CATALOG = path.join(SDSS_DIR, \"DR14Q_v4_4.fits\")\n",
    "SDSS_HDF5 = path.join(SDSS_DIR, \"sdss_dr14.hdf5\")\n",
    "SDSS_SELECTED_CATALOG = path.join(SDSS_DIR, \"sdss_dr14_selected.csv\")"
   ]
  },
  {
   "cell_type": "markdown",
   "metadata": {},
   "source": [
    "# SDSS DR14 Optical Spectra Catalog\n",
    "\n",
    "According to [data model](https://data.sdss.org/datamodel/files/SPECTRO_REDUX/specObj.html)\n",
    "contains the list of all spectra for a given data release,\n",
    "with associated parameters from the 2D and 1D pipelines for each."
   ]
  },
  {
   "cell_type": "code",
   "execution_count": 3,
   "metadata": {},
   "outputs": [
    {
     "name": "stdout",
     "output_type": "stream",
     "text": [
      "Filename: data/sdss/specObj-dr14.fits\n",
      "No.    Name      Ver    Type      Cards   Dimensions   Format\n",
      "  0  PRIMARY       1 PrimaryHDU       6   ()      \n",
      "  1                1 BinTableHDU    283   4851200R x 133C   [6A, 4A, 16A, 27A, 16A, 8A, E, E, E, J, E, E, J, B, B, B, B, B, B, B, J, 22A, 19A, 19A, 22A, 20A, I, 4A, 7A, 7A, J, D, D, D, E, E, 22A, 8A, K, J, J, J, J, J, K, K, J, J, J, J, J, J, K, K, K, K, K, K, K, K, I, J, J, J, J, 5J, D, D, 6A, 21A, E, E, E, J, E, 24A, 10J, J, 10E, E, E, E, E, E, E, J, E, E, E, J, E, 5E, E, 10E, 10E, 10E, 5E, 5E, 5E, 5E, 5E, J, J, E, E, E, E, E, E, 25A, 21A, 12A, E, E, E, E, E, E, E, E, J, E, E, J, 6A, 21A, E, E, J, J, A, 5E, 5E]   \n"
     ]
    }
   ],
   "source": [
    "catalog_hdul = fits.open(SDSS_CATALOG)\n",
    "catalog_hdul.info()\n",
    "\n",
    "catalog = catalog_hdul[1].data\n",
    "n_spec = catalog.shape[0]"
   ]
  },
  {
   "cell_type": "code",
   "execution_count": 4,
   "metadata": {},
   "outputs": [
    {
     "data": {
      "text/plain": [
       "(dtype('>i4'), dtype('>i4'), dtype('>i4'))"
      ]
     },
     "execution_count": 4,
     "metadata": {},
     "output_type": "execute_result"
    }
   ],
   "source": [
    "catalog[\"plate\"].dtype, catalog[\"mjd\"].dtype, catalog[\"fiberid\"].dtype"
   ]
  },
  {
   "cell_type": "code",
   "execution_count": 5,
   "metadata": {},
   "outputs": [
    {
     "name": "stdout",
     "output_type": "stream",
     "text": [
      "<class 'pandas.core.frame.DataFrame'>\n",
      "MultiIndex: 4851200 entries, (266, 51602, 1) to (10000, 57346, 1000)\n",
      "Data columns (total 5 columns):\n",
      "platequality    category\n",
      "targettype      category\n",
      "wavemax         float32\n",
      "wavemin         float32\n",
      "zwarning        int32\n",
      "dtypes: category(2), float32(2), int32(1)\n",
      "memory usage: 92.6 MB\n"
     ]
    },
    {
     "data": {
      "text/html": [
       "<div>\n",
       "<style scoped>\n",
       "    .dataframe tbody tr th:only-of-type {\n",
       "        vertical-align: middle;\n",
       "    }\n",
       "\n",
       "    .dataframe tbody tr th {\n",
       "        vertical-align: top;\n",
       "    }\n",
       "\n",
       "    .dataframe thead th {\n",
       "        text-align: right;\n",
       "    }\n",
       "</style>\n",
       "<table border=\"1\" class=\"dataframe\">\n",
       "  <thead>\n",
       "    <tr style=\"text-align: right;\">\n",
       "      <th></th>\n",
       "      <th></th>\n",
       "      <th></th>\n",
       "      <th>platequality</th>\n",
       "      <th>targettype</th>\n",
       "      <th>wavemax</th>\n",
       "      <th>wavemin</th>\n",
       "      <th>zwarning</th>\n",
       "    </tr>\n",
       "    <tr>\n",
       "      <th>plate</th>\n",
       "      <th>mjd</th>\n",
       "      <th>fiberid</th>\n",
       "      <th></th>\n",
       "      <th></th>\n",
       "      <th></th>\n",
       "      <th></th>\n",
       "      <th></th>\n",
       "    </tr>\n",
       "  </thead>\n",
       "  <tbody>\n",
       "    <tr>\n",
       "      <td rowspan=\"5\" valign=\"top\">266</td>\n",
       "      <td rowspan=\"5\" valign=\"top\">51602</td>\n",
       "      <td>1</td>\n",
       "      <td>bad</td>\n",
       "      <td>SCIENCE</td>\n",
       "      <td>9202.376953</td>\n",
       "      <td>3806.273682</td>\n",
       "      <td>0</td>\n",
       "    </tr>\n",
       "    <tr>\n",
       "      <td>2</td>\n",
       "      <td>bad</td>\n",
       "      <td>SCIENCE</td>\n",
       "      <td>9202.376953</td>\n",
       "      <td>3806.273682</td>\n",
       "      <td>0</td>\n",
       "    </tr>\n",
       "    <tr>\n",
       "      <td>3</td>\n",
       "      <td>bad</td>\n",
       "      <td>SCIENCE</td>\n",
       "      <td>9202.376953</td>\n",
       "      <td>3806.273682</td>\n",
       "      <td>0</td>\n",
       "    </tr>\n",
       "    <tr>\n",
       "      <td>4</td>\n",
       "      <td>bad</td>\n",
       "      <td>SCIENCE</td>\n",
       "      <td>9202.376953</td>\n",
       "      <td>3806.273682</td>\n",
       "      <td>0</td>\n",
       "    </tr>\n",
       "    <tr>\n",
       "      <td>5</td>\n",
       "      <td>bad</td>\n",
       "      <td>SCIENCE</td>\n",
       "      <td>9202.376953</td>\n",
       "      <td>3805.397217</td>\n",
       "      <td>0</td>\n",
       "    </tr>\n",
       "    <tr>\n",
       "      <td>...</td>\n",
       "      <td>...</td>\n",
       "      <td>...</td>\n",
       "      <td>...</td>\n",
       "      <td>...</td>\n",
       "      <td>...</td>\n",
       "      <td>...</td>\n",
       "      <td>...</td>\n",
       "    </tr>\n",
       "    <tr>\n",
       "      <td rowspan=\"5\" valign=\"top\">10000</td>\n",
       "      <td rowspan=\"5\" valign=\"top\">57346</td>\n",
       "      <td>996</td>\n",
       "      <td>good</td>\n",
       "      <td>SCIENCE</td>\n",
       "      <td>10360.959961</td>\n",
       "      <td>3617.428955</td>\n",
       "      <td>4</td>\n",
       "    </tr>\n",
       "    <tr>\n",
       "      <td>997</td>\n",
       "      <td>good</td>\n",
       "      <td>SCIENCE</td>\n",
       "      <td>10360.959961</td>\n",
       "      <td>3617.428955</td>\n",
       "      <td>4</td>\n",
       "    </tr>\n",
       "    <tr>\n",
       "      <td>998</td>\n",
       "      <td>good</td>\n",
       "      <td>STANDARD</td>\n",
       "      <td>10360.959961</td>\n",
       "      <td>3617.428955</td>\n",
       "      <td>0</td>\n",
       "    </tr>\n",
       "    <tr>\n",
       "      <td>999</td>\n",
       "      <td>good</td>\n",
       "      <td>SCIENCE</td>\n",
       "      <td>10360.959961</td>\n",
       "      <td>3617.428955</td>\n",
       "      <td>0</td>\n",
       "    </tr>\n",
       "    <tr>\n",
       "      <td>1000</td>\n",
       "      <td>good</td>\n",
       "      <td>SCIENCE</td>\n",
       "      <td>10360.959961</td>\n",
       "      <td>3616.595947</td>\n",
       "      <td>0</td>\n",
       "    </tr>\n",
       "  </tbody>\n",
       "</table>\n",
       "<p>4851200 rows × 5 columns</p>\n",
       "</div>"
      ],
      "text/plain": [
       "                    platequality targettype       wavemax      wavemin  \\\n",
       "plate mjd   fiberid                                                      \n",
       "266   51602 1           bad        SCIENCE    9202.376953  3806.273682   \n",
       "            2           bad        SCIENCE    9202.376953  3806.273682   \n",
       "            3           bad        SCIENCE    9202.376953  3806.273682   \n",
       "            4           bad        SCIENCE    9202.376953  3806.273682   \n",
       "            5           bad        SCIENCE    9202.376953  3805.397217   \n",
       "...                          ...        ...           ...          ...   \n",
       "10000 57346 996         good       SCIENCE   10360.959961  3617.428955   \n",
       "            997         good       SCIENCE   10360.959961  3617.428955   \n",
       "            998         good       STANDARD  10360.959961  3617.428955   \n",
       "            999         good       SCIENCE   10360.959961  3617.428955   \n",
       "            1000        good       SCIENCE   10360.959961  3616.595947   \n",
       "\n",
       "                     zwarning  \n",
       "plate mjd   fiberid            \n",
       "266   51602 1               0  \n",
       "            2               0  \n",
       "            3               0  \n",
       "            4               0  \n",
       "            5               0  \n",
       "...                       ...  \n",
       "10000 57346 996             4  \n",
       "            997             4  \n",
       "            998             0  \n",
       "            999             0  \n",
       "            1000            0  \n",
       "\n",
       "[4851200 rows x 5 columns]"
      ]
     },
     "execution_count": 5,
     "metadata": {},
     "output_type": "execute_result"
    }
   ],
   "source": [
    "multiindex = pd.MultiIndex.from_arrays(\n",
    "    [catalog[\"plate\"].astype(\"i4\"), catalog[\"mjd\"].astype(\"i4\"), catalog[\"fiberid\"].astype(\"i4\")],\n",
    "    names=[\"plate\", \"mjd\", \"fiberid\"]\n",
    ")\n",
    "\n",
    "catalog_df = pd.DataFrame(\n",
    "    data={\n",
    "        \"platequality\": pd.Categorical(catalog[\"platequality\"]),\n",
    "        \"targettype\": pd.Categorical(catalog[\"targettype\"]),\n",
    "        \"wavemax\": catalog[\"wavemax\"].astype(\"f4\"),\n",
    "        \"wavemin\": catalog[\"wavemin\"].astype(\"f4\"),\n",
    "        \"zwarning\": catalog[\"zwarning\"].astype(\"i4\"),\n",
    "    },\n",
    "    index=multiindex\n",
    ").sort_index()\n",
    "\n",
    "catalog_df.info()\n",
    "catalog_df"
   ]
  },
  {
   "cell_type": "code",
   "execution_count": 6,
   "metadata": {},
   "outputs": [],
   "source": [
    "catalog_df.loc[catalog_df[\"wavemax\"] == 0.0, \"wavemax\"] = np.nan\n",
    "catalog_df.loc[catalog_df[\"wavemin\"] == 0.0, \"wavemin\"] = np.nan"
   ]
  },
  {
   "cell_type": "code",
   "execution_count": 7,
   "metadata": {},
   "outputs": [],
   "source": [
    "zwarning = catalog_df[\"zwarning\"].values\n",
    "\n",
    "catalog_df[\"unplugged\"] = False\n",
    "catalog_df[\"nodata\"] = False\n",
    "\n",
    "# https://www.sdss.org/dr13/algorithms/bitmasks/#ZWARNING\n",
    "unplugged_idx = np.bitwise_and(zwarning, 2 ** 7).astype(\"bool\")\n",
    "nodata_idx = np.bitwise_and(zwarning, 2 ** 9).astype(\"bool\")\n",
    "\n",
    "catalog_df.loc[unplugged_idx, \"unplugged\"] = True\n",
    "catalog_df.loc[nodata_idx, \"nodata\"] = True"
   ]
  },
  {
   "cell_type": "code",
   "execution_count": 8,
   "metadata": {},
   "outputs": [
    {
     "data": {
      "text/html": [
       "<div>\n",
       "<style scoped>\n",
       "    .dataframe tbody tr th:only-of-type {\n",
       "        vertical-align: middle;\n",
       "    }\n",
       "\n",
       "    .dataframe tbody tr th {\n",
       "        vertical-align: top;\n",
       "    }\n",
       "\n",
       "    .dataframe thead th {\n",
       "        text-align: right;\n",
       "    }\n",
       "</style>\n",
       "<table border=\"1\" class=\"dataframe\">\n",
       "  <thead>\n",
       "    <tr style=\"text-align: right;\">\n",
       "      <th></th>\n",
       "      <th></th>\n",
       "      <th></th>\n",
       "      <th>platequality</th>\n",
       "      <th>targettype</th>\n",
       "      <th>wavemax</th>\n",
       "      <th>wavemin</th>\n",
       "      <th>zwarning</th>\n",
       "      <th>unplugged</th>\n",
       "      <th>nodata</th>\n",
       "    </tr>\n",
       "    <tr>\n",
       "      <th>plate</th>\n",
       "      <th>mjd</th>\n",
       "      <th>fiberid</th>\n",
       "      <th></th>\n",
       "      <th></th>\n",
       "      <th></th>\n",
       "      <th></th>\n",
       "      <th></th>\n",
       "      <th></th>\n",
       "      <th></th>\n",
       "    </tr>\n",
       "  </thead>\n",
       "  <tbody>\n",
       "    <tr>\n",
       "      <td rowspan=\"5\" valign=\"top\">266</td>\n",
       "      <td rowspan=\"5\" valign=\"top\">51602</td>\n",
       "      <td>1</td>\n",
       "      <td>bad</td>\n",
       "      <td>SCIENCE</td>\n",
       "      <td>9202.376953</td>\n",
       "      <td>3806.273682</td>\n",
       "      <td>0</td>\n",
       "      <td>False</td>\n",
       "      <td>False</td>\n",
       "    </tr>\n",
       "    <tr>\n",
       "      <td>2</td>\n",
       "      <td>bad</td>\n",
       "      <td>SCIENCE</td>\n",
       "      <td>9202.376953</td>\n",
       "      <td>3806.273682</td>\n",
       "      <td>0</td>\n",
       "      <td>False</td>\n",
       "      <td>False</td>\n",
       "    </tr>\n",
       "    <tr>\n",
       "      <td>3</td>\n",
       "      <td>bad</td>\n",
       "      <td>SCIENCE</td>\n",
       "      <td>9202.376953</td>\n",
       "      <td>3806.273682</td>\n",
       "      <td>0</td>\n",
       "      <td>False</td>\n",
       "      <td>False</td>\n",
       "    </tr>\n",
       "    <tr>\n",
       "      <td>4</td>\n",
       "      <td>bad</td>\n",
       "      <td>SCIENCE</td>\n",
       "      <td>9202.376953</td>\n",
       "      <td>3806.273682</td>\n",
       "      <td>0</td>\n",
       "      <td>False</td>\n",
       "      <td>False</td>\n",
       "    </tr>\n",
       "    <tr>\n",
       "      <td>5</td>\n",
       "      <td>bad</td>\n",
       "      <td>SCIENCE</td>\n",
       "      <td>9202.376953</td>\n",
       "      <td>3805.397217</td>\n",
       "      <td>0</td>\n",
       "      <td>False</td>\n",
       "      <td>False</td>\n",
       "    </tr>\n",
       "    <tr>\n",
       "      <td>...</td>\n",
       "      <td>...</td>\n",
       "      <td>...</td>\n",
       "      <td>...</td>\n",
       "      <td>...</td>\n",
       "      <td>...</td>\n",
       "      <td>...</td>\n",
       "      <td>...</td>\n",
       "      <td>...</td>\n",
       "      <td>...</td>\n",
       "    </tr>\n",
       "    <tr>\n",
       "      <td rowspan=\"5\" valign=\"top\">10000</td>\n",
       "      <td rowspan=\"5\" valign=\"top\">57346</td>\n",
       "      <td>996</td>\n",
       "      <td>good</td>\n",
       "      <td>SCIENCE</td>\n",
       "      <td>10360.959961</td>\n",
       "      <td>3617.428955</td>\n",
       "      <td>4</td>\n",
       "      <td>False</td>\n",
       "      <td>False</td>\n",
       "    </tr>\n",
       "    <tr>\n",
       "      <td>997</td>\n",
       "      <td>good</td>\n",
       "      <td>SCIENCE</td>\n",
       "      <td>10360.959961</td>\n",
       "      <td>3617.428955</td>\n",
       "      <td>4</td>\n",
       "      <td>False</td>\n",
       "      <td>False</td>\n",
       "    </tr>\n",
       "    <tr>\n",
       "      <td>998</td>\n",
       "      <td>good</td>\n",
       "      <td>STANDARD</td>\n",
       "      <td>10360.959961</td>\n",
       "      <td>3617.428955</td>\n",
       "      <td>0</td>\n",
       "      <td>False</td>\n",
       "      <td>False</td>\n",
       "    </tr>\n",
       "    <tr>\n",
       "      <td>999</td>\n",
       "      <td>good</td>\n",
       "      <td>SCIENCE</td>\n",
       "      <td>10360.959961</td>\n",
       "      <td>3617.428955</td>\n",
       "      <td>0</td>\n",
       "      <td>False</td>\n",
       "      <td>False</td>\n",
       "    </tr>\n",
       "    <tr>\n",
       "      <td>1000</td>\n",
       "      <td>good</td>\n",
       "      <td>SCIENCE</td>\n",
       "      <td>10360.959961</td>\n",
       "      <td>3616.595947</td>\n",
       "      <td>0</td>\n",
       "      <td>False</td>\n",
       "      <td>False</td>\n",
       "    </tr>\n",
       "  </tbody>\n",
       "</table>\n",
       "<p>4851200 rows × 7 columns</p>\n",
       "</div>"
      ],
      "text/plain": [
       "                    platequality targettype       wavemax      wavemin  \\\n",
       "plate mjd   fiberid                                                      \n",
       "266   51602 1           bad        SCIENCE    9202.376953  3806.273682   \n",
       "            2           bad        SCIENCE    9202.376953  3806.273682   \n",
       "            3           bad        SCIENCE    9202.376953  3806.273682   \n",
       "            4           bad        SCIENCE    9202.376953  3806.273682   \n",
       "            5           bad        SCIENCE    9202.376953  3805.397217   \n",
       "...                          ...        ...           ...          ...   \n",
       "10000 57346 996         good       SCIENCE   10360.959961  3617.428955   \n",
       "            997         good       SCIENCE   10360.959961  3617.428955   \n",
       "            998         good       STANDARD  10360.959961  3617.428955   \n",
       "            999         good       SCIENCE   10360.959961  3617.428955   \n",
       "            1000        good       SCIENCE   10360.959961  3616.595947   \n",
       "\n",
       "                     zwarning  unplugged  nodata  \n",
       "plate mjd   fiberid                               \n",
       "266   51602 1               0      False   False  \n",
       "            2               0      False   False  \n",
       "            3               0      False   False  \n",
       "            4               0      False   False  \n",
       "            5               0      False   False  \n",
       "...                       ...        ...     ...  \n",
       "10000 57346 996             4      False   False  \n",
       "            997             4      False   False  \n",
       "            998             0      False   False  \n",
       "            999             0      False   False  \n",
       "            1000            0      False   False  \n",
       "\n",
       "[4851200 rows x 7 columns]"
      ]
     },
     "execution_count": 8,
     "metadata": {},
     "output_type": "execute_result"
    }
   ],
   "source": [
    "catalog_df"
   ]
  },
  {
   "cell_type": "code",
   "execution_count": 9,
   "metadata": {},
   "outputs": [],
   "source": [
    "catalog_hdul.close()"
   ]
  },
  {
   "cell_type": "markdown",
   "metadata": {},
   "source": [
    "# SDSS DR14 Quasar Catalog\n",
    "\n",
    "Known problems of the catalog are listed in a Jupyter notebook\n",
    "[Preparing SDSS DR14 VACs](https://github.com/noaodatalab/digestor/blob/master/docs/notebooks/Preparing_SDSS_DR14_VACs.ipynb)\n",
    "where VACs value added catalogs."
   ]
  },
  {
   "cell_type": "code",
   "execution_count": 10,
   "metadata": {},
   "outputs": [
    {
     "name": "stdout",
     "output_type": "stream",
     "text": [
      "Filename: data/sdss/DR14Q_v4_4.fits\n",
      "No.    Name      Ver    Type      Cards   Dimensions   Format\n",
      "  0  PRIMARY       1 PrimaryHDU      16   (7055,)   uint8   \n",
      "  1  DR14Q_v4_4    1 BinTableHDU    328   526356R x 105C   [18A, D, D, J, I, J, I, 4A, D, D, 4A, D, D, D, I, D, D, D, K, K, K, K, K, K, I, I, I, 51J, 51J, 51J, 51A, D, D, I, A, I, I, A, 5D, 5D, 5D, 5D, D, 5D, D, D, D, D, D, D, D, D, D, D, D, E, D, D, D, D, D, D, E, I, D, D, E, I, D, D, E, I, D, D, D, D, D, D, D, D, D, D, D, D, D, D, D, D, D, 4A, 4A, D, E, D, D, D, D, D, D, D, D, I, D, D, D]   \n"
     ]
    }
   ],
   "source": [
    "qso_hdul = fits.open(SDSS_QSO_CATALOG)\n",
    "qso_hdul.info()\n",
    "\n",
    "columns = qso_hdul[1].columns\n",
    "qso_catalog = qso_hdul[1].data"
   ]
  },
  {
   "cell_type": "code",
   "execution_count": 11,
   "metadata": {},
   "outputs": [
    {
     "data": {
      "text/plain": [
       "(526356, 123435, 649791)"
      ]
     },
     "execution_count": 11,
     "metadata": {},
     "output_type": "execute_result"
    }
   ],
   "source": [
    "n_primary = qso_catalog.shape[0]\n",
    "n_additional = qso_catalog[\"n_spec\"].sum()\n",
    "n_primary, n_additional, n_primary + n_additional"
   ]
  },
  {
   "cell_type": "code",
   "execution_count": 12,
   "metadata": {},
   "outputs": [
    {
     "data": {
      "text/plain": [
       "((103156,), (103156,), (103156,))"
      ]
     },
     "execution_count": 12,
     "metadata": {},
     "output_type": "execute_result"
    }
   ],
   "source": [
    "def get_duplicate_spec(duplicate):\n",
    "    return duplicate[duplicate > 0]\n",
    "\n",
    "plate_duplicate   = get_duplicate_spec(qso_catalog[\"plate_duplicate\"])\n",
    "mjd_duplicate     = get_duplicate_spec(qso_catalog[\"mjd_duplicate\"])\n",
    "fiberid_duplicate = get_duplicate_spec(qso_catalog[\"fiberid_duplicate\"])\n",
    "\n",
    "plate_duplicate.shape, mjd_duplicate.shape, fiberid_duplicate.shape"
   ]
  },
  {
   "cell_type": "code",
   "execution_count": 13,
   "metadata": {},
   "outputs": [
    {
     "data": {
      "text/plain": [
       "(103156, 629512)"
      ]
     },
     "execution_count": 13,
     "metadata": {},
     "output_type": "execute_result"
    }
   ],
   "source": [
    "n_true_additional = plate_duplicate.shape[0]\n",
    "n_qso = n_primary + n_true_additional\n",
    "n_true_additional, n_qso"
   ]
  },
  {
   "cell_type": "code",
   "execution_count": 14,
   "metadata": {},
   "outputs": [
    {
     "data": {
      "text/plain": [
       "(dtype('>i2'), dtype('>i4'), dtype('>i2'))"
      ]
     },
     "execution_count": 14,
     "metadata": {},
     "output_type": "execute_result"
    }
   ],
   "source": [
    "qso_catalog[\"plate\"].dtype, qso_catalog[\"mjd\"].dtype, qso_catalog[\"fiberid\"].dtype"
   ]
  },
  {
   "cell_type": "code",
   "execution_count": 15,
   "metadata": {},
   "outputs": [],
   "source": [
    "def fill_array(arr, primaries, duplicates, n_primary=n_primary):\n",
    "    arr[:n_primary] = primaries\n",
    "    arr[n_primary:] = duplicates\n",
    "\n",
    "\n",
    "plate   = np.zeros(shape=n_qso, dtype='i2')\n",
    "mjd     = np.zeros(shape=n_qso, dtype='i4')\n",
    "fiberid = np.zeros(shape=n_qso, dtype='i2')\n",
    "\n",
    "fill_array(plate, qso_catalog[\"plate\"], plate_duplicate)\n",
    "fill_array(mjd, qso_catalog[\"mjd\"], mjd_duplicate)\n",
    "fill_array(fiberid, qso_catalog[\"fiberid\"], fiberid_duplicate)"
   ]
  },
  {
   "cell_type": "code",
   "execution_count": 16,
   "metadata": {},
   "outputs": [],
   "source": [
    "qso_hdul.close()"
   ]
  },
  {
   "cell_type": "markdown",
   "metadata": {},
   "source": [
    "# Combining"
   ]
  },
  {
   "cell_type": "code",
   "execution_count": 17,
   "metadata": {},
   "outputs": [
    {
     "data": {
      "text/plain": [
       "(629457,)"
      ]
     },
     "execution_count": 17,
     "metadata": {},
     "output_type": "execute_result"
    }
   ],
   "source": [
    "qso_multiindex = pd.MultiIndex.from_arrays(\n",
    "    [plate, mjd, fiberid],\n",
    "    names=[\"plate\", \"mjd\", \"fiberid\"]\n",
    ")\n",
    "\n",
    "qso_missing = qso_multiindex.difference(multiindex)\n",
    "\n",
    "qso_multiindex = qso_multiindex.difference(qso_missing)\n",
    "qso_multiindex.shape"
   ]
  },
  {
   "cell_type": "code",
   "execution_count": 18,
   "metadata": {},
   "outputs": [
    {
     "data": {
      "text/plain": [
       "((55,), MultiIndex([(2516, 54240,  21),\n",
       "             (2516, 54240,  64),\n",
       "             (2516, 54240,  93),\n",
       "             (2516, 54240,  98),\n",
       "             (2516, 54240,  99),\n",
       "             (2516, 54240, 119),\n",
       "             (2516, 54240, 122),\n",
       "             (2516, 54240, 125),\n",
       "             (2516, 54240, 157),\n",
       "             (2516, 54240, 165),\n",
       "             (2516, 54240, 188),\n",
       "             (2516, 54240, 196),\n",
       "             (2516, 54240, 197),\n",
       "             (2516, 54240, 201),\n",
       "             (2516, 54240, 213),\n",
       "             (2516, 54240, 218),\n",
       "             (2516, 54240, 250),\n",
       "             (2516, 54240, 289),\n",
       "             (2516, 54240, 303),\n",
       "             (2516, 54240, 330),\n",
       "             (2516, 54240, 342),\n",
       "             (2516, 54240, 346),\n",
       "             (2516, 54240, 362),\n",
       "             (2516, 54240, 369),\n",
       "             (2516, 54240, 394),\n",
       "             (2516, 54240, 407),\n",
       "             (2516, 54240, 419),\n",
       "             (2516, 54240, 424),\n",
       "             (2516, 54240, 467),\n",
       "             (2516, 54240, 472),\n",
       "             (2516, 54240, 473),\n",
       "             (2516, 54240, 474),\n",
       "             (2516, 54240, 476),\n",
       "             (2516, 54240, 481),\n",
       "             (2516, 54240, 484),\n",
       "             (2516, 54240, 501),\n",
       "             (2516, 54240, 504),\n",
       "             (2516, 54240, 505),\n",
       "             (2516, 54240, 550),\n",
       "             (2516, 54240, 557),\n",
       "             (2516, 54240, 562),\n",
       "             (2516, 54240, 575),\n",
       "             (2516, 54240, 584),\n",
       "             (2516, 54240, 587),\n",
       "             (2516, 54240, 590),\n",
       "             (2516, 54240, 591),\n",
       "             (2516, 54240, 603),\n",
       "             (2516, 54240, 619),\n",
       "             (2516, 54240, 639),\n",
       "             (2812, 54633, 125),\n",
       "             (2865, 54497, 128),\n",
       "             (2865, 54497, 141),\n",
       "             (2865, 54497, 294),\n",
       "             (2865, 54497, 435),\n",
       "             (2865, 54497, 570)],\n",
       "            names=['plate', 'mjd', 'fiberid']))"
      ]
     },
     "execution_count": 18,
     "metadata": {},
     "output_type": "execute_result"
    }
   ],
   "source": [
    "qso_missing.shape, qso_missing"
   ]
  },
  {
   "cell_type": "code",
   "execution_count": 19,
   "metadata": {},
   "outputs": [],
   "source": [
    "catalog_df[\"qso\"] = False\n",
    "catalog_df.loc[qso_multiindex, \"qso\"] = True"
   ]
  },
  {
   "cell_type": "code",
   "execution_count": 20,
   "metadata": {},
   "outputs": [
    {
     "data": {
      "text/html": [
       "<div>\n",
       "<style scoped>\n",
       "    .dataframe tbody tr th:only-of-type {\n",
       "        vertical-align: middle;\n",
       "    }\n",
       "\n",
       "    .dataframe tbody tr th {\n",
       "        vertical-align: top;\n",
       "    }\n",
       "\n",
       "    .dataframe thead th {\n",
       "        text-align: right;\n",
       "    }\n",
       "</style>\n",
       "<table border=\"1\" class=\"dataframe\">\n",
       "  <thead>\n",
       "    <tr style=\"text-align: right;\">\n",
       "      <th></th>\n",
       "      <th></th>\n",
       "      <th></th>\n",
       "      <th>platequality</th>\n",
       "      <th>targettype</th>\n",
       "      <th>wavemax</th>\n",
       "      <th>wavemin</th>\n",
       "      <th>zwarning</th>\n",
       "      <th>unplugged</th>\n",
       "      <th>nodata</th>\n",
       "      <th>qso</th>\n",
       "    </tr>\n",
       "    <tr>\n",
       "      <th>plate</th>\n",
       "      <th>mjd</th>\n",
       "      <th>fiberid</th>\n",
       "      <th></th>\n",
       "      <th></th>\n",
       "      <th></th>\n",
       "      <th></th>\n",
       "      <th></th>\n",
       "      <th></th>\n",
       "      <th></th>\n",
       "      <th></th>\n",
       "    </tr>\n",
       "  </thead>\n",
       "  <tbody>\n",
       "    <tr>\n",
       "      <td rowspan=\"5\" valign=\"top\">266</td>\n",
       "      <td rowspan=\"5\" valign=\"top\">51602</td>\n",
       "      <td>1</td>\n",
       "      <td>bad</td>\n",
       "      <td>SCIENCE</td>\n",
       "      <td>9202.376953</td>\n",
       "      <td>3806.273682</td>\n",
       "      <td>0</td>\n",
       "      <td>False</td>\n",
       "      <td>False</td>\n",
       "      <td>False</td>\n",
       "    </tr>\n",
       "    <tr>\n",
       "      <td>2</td>\n",
       "      <td>bad</td>\n",
       "      <td>SCIENCE</td>\n",
       "      <td>9202.376953</td>\n",
       "      <td>3806.273682</td>\n",
       "      <td>0</td>\n",
       "      <td>False</td>\n",
       "      <td>False</td>\n",
       "      <td>False</td>\n",
       "    </tr>\n",
       "    <tr>\n",
       "      <td>3</td>\n",
       "      <td>bad</td>\n",
       "      <td>SCIENCE</td>\n",
       "      <td>9202.376953</td>\n",
       "      <td>3806.273682</td>\n",
       "      <td>0</td>\n",
       "      <td>False</td>\n",
       "      <td>False</td>\n",
       "      <td>False</td>\n",
       "    </tr>\n",
       "    <tr>\n",
       "      <td>4</td>\n",
       "      <td>bad</td>\n",
       "      <td>SCIENCE</td>\n",
       "      <td>9202.376953</td>\n",
       "      <td>3806.273682</td>\n",
       "      <td>0</td>\n",
       "      <td>False</td>\n",
       "      <td>False</td>\n",
       "      <td>False</td>\n",
       "    </tr>\n",
       "    <tr>\n",
       "      <td>5</td>\n",
       "      <td>bad</td>\n",
       "      <td>SCIENCE</td>\n",
       "      <td>9202.376953</td>\n",
       "      <td>3805.397217</td>\n",
       "      <td>0</td>\n",
       "      <td>False</td>\n",
       "      <td>False</td>\n",
       "      <td>False</td>\n",
       "    </tr>\n",
       "    <tr>\n",
       "      <td>...</td>\n",
       "      <td>...</td>\n",
       "      <td>...</td>\n",
       "      <td>...</td>\n",
       "      <td>...</td>\n",
       "      <td>...</td>\n",
       "      <td>...</td>\n",
       "      <td>...</td>\n",
       "      <td>...</td>\n",
       "      <td>...</td>\n",
       "      <td>...</td>\n",
       "    </tr>\n",
       "    <tr>\n",
       "      <td rowspan=\"5\" valign=\"top\">10000</td>\n",
       "      <td rowspan=\"5\" valign=\"top\">57346</td>\n",
       "      <td>996</td>\n",
       "      <td>good</td>\n",
       "      <td>SCIENCE</td>\n",
       "      <td>10360.959961</td>\n",
       "      <td>3617.428955</td>\n",
       "      <td>4</td>\n",
       "      <td>False</td>\n",
       "      <td>False</td>\n",
       "      <td>False</td>\n",
       "    </tr>\n",
       "    <tr>\n",
       "      <td>997</td>\n",
       "      <td>good</td>\n",
       "      <td>SCIENCE</td>\n",
       "      <td>10360.959961</td>\n",
       "      <td>3617.428955</td>\n",
       "      <td>4</td>\n",
       "      <td>False</td>\n",
       "      <td>False</td>\n",
       "      <td>False</td>\n",
       "    </tr>\n",
       "    <tr>\n",
       "      <td>998</td>\n",
       "      <td>good</td>\n",
       "      <td>STANDARD</td>\n",
       "      <td>10360.959961</td>\n",
       "      <td>3617.428955</td>\n",
       "      <td>0</td>\n",
       "      <td>False</td>\n",
       "      <td>False</td>\n",
       "      <td>False</td>\n",
       "    </tr>\n",
       "    <tr>\n",
       "      <td>999</td>\n",
       "      <td>good</td>\n",
       "      <td>SCIENCE</td>\n",
       "      <td>10360.959961</td>\n",
       "      <td>3617.428955</td>\n",
       "      <td>0</td>\n",
       "      <td>False</td>\n",
       "      <td>False</td>\n",
       "      <td>True</td>\n",
       "    </tr>\n",
       "    <tr>\n",
       "      <td>1000</td>\n",
       "      <td>good</td>\n",
       "      <td>SCIENCE</td>\n",
       "      <td>10360.959961</td>\n",
       "      <td>3616.595947</td>\n",
       "      <td>0</td>\n",
       "      <td>False</td>\n",
       "      <td>False</td>\n",
       "      <td>False</td>\n",
       "    </tr>\n",
       "  </tbody>\n",
       "</table>\n",
       "<p>4851200 rows × 8 columns</p>\n",
       "</div>"
      ],
      "text/plain": [
       "                    platequality targettype       wavemax      wavemin  \\\n",
       "plate mjd   fiberid                                                      \n",
       "266   51602 1           bad        SCIENCE    9202.376953  3806.273682   \n",
       "            2           bad        SCIENCE    9202.376953  3806.273682   \n",
       "            3           bad        SCIENCE    9202.376953  3806.273682   \n",
       "            4           bad        SCIENCE    9202.376953  3806.273682   \n",
       "            5           bad        SCIENCE    9202.376953  3805.397217   \n",
       "...                          ...        ...           ...          ...   \n",
       "10000 57346 996         good       SCIENCE   10360.959961  3617.428955   \n",
       "            997         good       SCIENCE   10360.959961  3617.428955   \n",
       "            998         good       STANDARD  10360.959961  3617.428955   \n",
       "            999         good       SCIENCE   10360.959961  3617.428955   \n",
       "            1000        good       SCIENCE   10360.959961  3616.595947   \n",
       "\n",
       "                     zwarning  unplugged  nodata    qso  \n",
       "plate mjd   fiberid                                      \n",
       "266   51602 1               0      False   False  False  \n",
       "            2               0      False   False  False  \n",
       "            3               0      False   False  False  \n",
       "            4               0      False   False  False  \n",
       "            5               0      False   False  False  \n",
       "...                       ...        ...     ...    ...  \n",
       "10000 57346 996             4      False   False  False  \n",
       "            997             4      False   False  False  \n",
       "            998             0      False   False  False  \n",
       "            999             0      False   False   True  \n",
       "            1000            0      False   False  False  \n",
       "\n",
       "[4851200 rows x 8 columns]"
      ]
     },
     "execution_count": 20,
     "metadata": {},
     "output_type": "execute_result"
    }
   ],
   "source": [
    "catalog_df"
   ]
  },
  {
   "cell_type": "markdown",
   "metadata": {},
   "source": [
    "# Analysis"
   ]
  },
  {
   "cell_type": "code",
   "execution_count": 21,
   "metadata": {},
   "outputs": [
    {
     "data": {
      "image/png": "[encoded data removed]",
      "text/plain": [
       "<Figure size 432x288 with 1 Axes>"
      ]
     },
     "metadata": {
      "needs_background": "light"
     },
     "output_type": "display_data"
    }
   ],
   "source": [
    "def plot_spec(plate, mjd, fiberid):\n",
    "    dr_path = sdss.get_dr_path(plate, mjd, fiberid)\n",
    "    filepath = path.join(SDSS_DR14, dr_path)\n",
    "    with fits.open(filepath) as hdul:\n",
    "        data = hdul[1].data\n",
    "        ax = plt.axes(xlabel=\"Wavelength\", ylabel=\"Flux\", title=dr_path)\n",
    "        ax.plot(np.power(10, data[\"loglam\"]), data[\"flux\"])\n",
    "\n",
    "qso = catalog_df[catalog_df[\"qso\"]].sample()\n",
    "plot_spec(*qso.index[0])"
   ]
  },
  {
   "cell_type": "code",
   "execution_count": 22,
   "metadata": {},
   "outputs": [
    {
     "data": {
      "image/png": "[encoded data removed]",
      "text/plain": [
       "<Figure size 432x288 with 1 Axes>"
      ]
     },
     "metadata": {
      "needs_background": "light"
     },
     "output_type": "display_data"
    }
   ],
   "source": [
    "nodata_spec = catalog_df[catalog_df[\"nodata\"]].sample()\n",
    "plot_spec(*nodata_spec.index[0])"
   ]
  },
  {
   "cell_type": "code",
   "execution_count": 23,
   "metadata": {},
   "outputs": [
    {
     "data": {
      "text/plain": [
       "qso    nodata\n",
       "False  False     4212749\n",
       "       True         8994\n",
       "True   False      628969\n",
       "       True          488\n",
       "Name: nodata, dtype: int64"
      ]
     },
     "execution_count": 23,
     "metadata": {},
     "output_type": "execute_result"
    }
   ],
   "source": [
    "catalog_df.groupby(\"qso\")[\"nodata\"].value_counts()"
   ]
  },
  {
   "cell_type": "code",
   "execution_count": 24,
   "metadata": {},
   "outputs": [
    {
     "data": {
      "text/plain": [
       "True"
      ]
     },
     "execution_count": 24,
     "metadata": {},
     "output_type": "execute_result"
    }
   ],
   "source": [
    "np.all(catalog_df[\"wavemin\"].isna() == catalog_df[\"wavemax\"].isna())"
   ]
  },
  {
   "cell_type": "code",
   "execution_count": 25,
   "metadata": {},
   "outputs": [
    {
     "name": "stdout",
     "output_type": "stream",
     "text": [
      "<class 'pandas.core.frame.DataFrame'>\n",
      "MultiIndex: 4315 entries, (270, 51909, 102) to (10000, 57346, 717)\n",
      "Data columns (total 8 columns):\n",
      "platequality    4315 non-null category\n",
      "targettype      4315 non-null category\n",
      "wavemax         4315 non-null float32\n",
      "wavemin         4315 non-null float32\n",
      "zwarning        4315 non-null int32\n",
      "unplugged       4315 non-null bool\n",
      "nodata          4315 non-null bool\n",
      "qso             4315 non-null bool\n",
      "dtypes: bool(3), category(2), float32(2), int32(1)\n",
      "memory usage: 164.1 KB\n"
     ]
    }
   ],
   "source": [
    "catalog_df[catalog_df[\"unplugged\"] & catalog_df[\"wavemax\"].notna()].info()"
   ]
  },
  {
   "cell_type": "code",
   "execution_count": 26,
   "metadata": {},
   "outputs": [
    {
     "name": "stdout",
     "output_type": "stream",
     "text": [
      "<class 'pandas.core.frame.DataFrame'>\n",
      "MultiIndex: 9482 entries, (3589, 55186, 184) to (10000, 57346, 993)\n",
      "Data columns (total 8 columns):\n",
      "platequality    9482 non-null category\n",
      "targettype      9482 non-null category\n",
      "wavemax         0 non-null float32\n",
      "wavemin         0 non-null float32\n",
      "zwarning        9482 non-null int32\n",
      "unplugged       9482 non-null bool\n",
      "nodata          9482 non-null bool\n",
      "qso             9482 non-null bool\n",
      "dtypes: bool(3), category(2), float32(2), int32(1)\n",
      "memory usage: 280.2 KB\n"
     ]
    }
   ],
   "source": [
    "catalog_df[catalog_df[\"nodata\"]].info()"
   ]
  },
  {
   "cell_type": "code",
   "execution_count": 27,
   "metadata": {},
   "outputs": [
    {
     "data": {
      "text/plain": [
       "qso    unplugged\n",
       "False  False        4203660\n",
       "       True           18083\n",
       "True   False         628775\n",
       "       True             682\n",
       "Name: unplugged, dtype: int64"
      ]
     },
     "execution_count": 27,
     "metadata": {},
     "output_type": "execute_result"
    }
   ],
   "source": [
    "catalog_df.groupby(\"qso\")[\"unplugged\"].value_counts()"
   ]
  },
  {
   "cell_type": "code",
   "execution_count": 28,
   "metadata": {},
   "outputs": [
    {
     "data": {
      "text/plain": [
       "qso    targettype\n",
       "False  SCIENCE       3738730\n",
       "       SKY            394231\n",
       "       STANDARD        88782\n",
       "True   SCIENCE        629451\n",
       "       STANDARD            6\n",
       "Name: targettype, dtype: int64"
      ]
     },
     "execution_count": 28,
     "metadata": {},
     "output_type": "execute_result"
    }
   ],
   "source": [
    "catalog_df.groupby(\"qso\")[\"targettype\"].value_counts()"
   ]
  },
  {
   "cell_type": "code",
   "execution_count": 29,
   "metadata": {},
   "outputs": [
    {
     "data": {
      "text/plain": [
       "qso    platequality\n",
       "False  good            3763636\n",
       "       marginal         384713\n",
       "       bad               73394\n",
       "True   good             598604\n",
       "       marginal          30007\n",
       "       bad                 846\n",
       "Name: platequality, dtype: int64"
      ]
     },
     "execution_count": 29,
     "metadata": {},
     "output_type": "execute_result"
    }
   ],
   "source": [
    "catalog_df.groupby(\"qso\")[\"platequality\"].value_counts()"
   ]
  },
  {
   "cell_type": "code",
   "execution_count": 30,
   "metadata": {},
   "outputs": [
    {
     "data": {
      "text/plain": [
       "qso\n",
       "False    AxesSubplot(0.125,0.125;0.775x0.755)\n",
       "True     AxesSubplot(0.125,0.125;0.775x0.755)\n",
       "Name: wavemin, dtype: object"
      ]
     },
     "execution_count": 30,
     "metadata": {},
     "output_type": "execute_result"
    },
    {
     "data": {
      "image/png": "[encoded data removed]",
      "text/plain": [
       "<Figure size 432x288 with 1 Axes>"
      ]
     },
     "metadata": {
      "needs_background": "light"
     },
     "output_type": "display_data"
    }
   ],
   "source": [
    "catalog_df.groupby(\"qso\")[\"wavemin\"].plot.hist(log=True)"
   ]
  },
  {
   "cell_type": "code",
   "execution_count": 31,
   "metadata": {},
   "outputs": [
    {
     "data": {
      "text/plain": [
       "qso\n",
       "False    AxesSubplot(0.125,0.125;0.775x0.755)\n",
       "True     AxesSubplot(0.125,0.125;0.775x0.755)\n",
       "Name: wavemax, dtype: object"
      ]
     },
     "execution_count": 31,
     "metadata": {},
     "output_type": "execute_result"
    },
    {
     "data": {
      "image/png": "[encoded data removed]",
      "text/plain": [
       "<Figure size 432x288 with 1 Axes>"
      ]
     },
     "metadata": {
      "needs_background": "light"
     },
     "output_type": "display_data"
    }
   ],
   "source": [
    "catalog_df.groupby(\"qso\")[\"wavemax\"].plot.hist(log=True)"
   ]
  },
  {
   "cell_type": "code",
   "execution_count": 32,
   "metadata": {},
   "outputs": [
    {
     "data": {
      "text/plain": [
       "<matplotlib.lines.Line2D at 0x7f1b1d49eb00>"
      ]
     },
     "execution_count": 32,
     "metadata": {},
     "output_type": "execute_result"
    },
    {
     "data": {
      "image/png": "[encoded data removed]",
      "text/plain": [
       "<Figure size 432x288 with 1 Axes>"
      ]
     },
     "metadata": {
      "needs_background": "light"
     },
     "output_type": "display_data"
    }
   ],
   "source": [
    "ax = catalog_df[\"wavemax\"].value_counts().sort_index(ascending=False).cumsum().plot(style=\"x\")\n",
    "ax.axvline(WAVEMAX, color=\"k\")"
   ]
  },
  {
   "cell_type": "code",
   "execution_count": 33,
   "metadata": {},
   "outputs": [
    {
     "data": {
      "text/plain": [
       "<matplotlib.lines.Line2D at 0x7f1b1d3dc6a0>"
      ]
     },
     "execution_count": 33,
     "metadata": {},
     "output_type": "execute_result"
    },
    {
     "data": {
      "image/png": "[encoded data removed]",
      "text/plain": [
       "<Figure size 432x288 with 1 Axes>"
      ]
     },
     "metadata": {
      "needs_background": "light"
     },
     "output_type": "display_data"
    }
   ],
   "source": [
    "ax = catalog_df[\"wavemin\"].value_counts().sort_index().cumsum().plot(style=\"x\")\n",
    "ax.axvline(WAVEMIN, color=\"k\")"
   ]
  },
  {
   "cell_type": "code",
   "execution_count": 34,
   "metadata": {},
   "outputs": [
    {
     "data": {
      "text/plain": [
       "(4816713, 34487)"
      ]
     },
     "execution_count": 34,
     "metadata": {},
     "output_type": "execute_result"
    }
   ],
   "source": [
    "# wavelengths from `lamost_analysis.ipynb`\n",
    "idx_selected = (catalog_df[\"wavemin\"] <= 3839.7244) & (8914.597 <= catalog_df[\"wavemax\"])\n",
    "n_selected = idx_selected.sum()\n",
    "\n",
    "n_selected, n_spec - n_selected"
   ]
  },
  {
   "cell_type": "code",
   "execution_count": 35,
   "metadata": {},
   "outputs": [
    {
     "data": {
      "text/plain": [
       "1949"
      ]
     },
     "execution_count": 35,
     "metadata": {},
     "output_type": "execute_result"
    }
   ],
   "source": [
    "catalog_df[\"qso\"].sum() - catalog_df.loc[idx_selected, \"qso\"].sum()"
   ]
  },
  {
   "cell_type": "code",
   "execution_count": 36,
   "metadata": {},
   "outputs": [
    {
     "data": {
      "text/plain": [
       "((4816713, 8), (4851200, 8))"
      ]
     },
     "execution_count": 36,
     "metadata": {},
     "output_type": "execute_result"
    }
   ],
   "source": [
    "catalog_selected_df = catalog_df[idx_selected]\n",
    "catalog_selected_df.to_csv(path.join(SDSS_DIR, \"sdss_dr14_selected.csv\"))\n",
    "catalog_selected_df.shape, catalog_df.shape"
   ]
  }
 ],
 "metadata": {
  "kernelspec": {
   "display_name": "Python 3",
   "language": "python",
   "name": "python3"
  },
  "language_info": {
   "codemirror_mode": {
    "name": "ipython",
    "version": 3
   },
   "file_extension": ".py",
   "mimetype": "text/x-python",
   "name": "python",
   "nbconvert_exporter": "python",
   "pygments_lexer": "ipython3",
   "version": "3.5.3"
  }
 },
 "nbformat": 4,
 "nbformat_minor": 4
}
