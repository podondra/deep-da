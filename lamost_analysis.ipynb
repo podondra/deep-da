{
 "cells": [
  {
   "cell_type": "code",
   "execution_count": 1,
   "metadata": {},
   "outputs": [],
   "source": [
    "from os import path\n",
    "import re\n",
    "\n",
    "from astropy.io import fits\n",
    "import h5py\n",
    "import matplotlib.pyplot as plt\n",
    "import numpy as np\n",
    "import pandas as pd\n",
    "\n",
    "from qso import lamost\n",
    "from qso.utils import WAVEMIN, WAVEMAX"
   ]
  },
  {
   "cell_type": "code",
   "execution_count": 2,
   "metadata": {},
   "outputs": [],
   "source": [
    "LAMOST_DIR = path.join(\"data\", \"lamost\")\n",
    "LAMOST_DR5 = path.join(LAMOST_DIR, \"lamost_dr5_v3\")\n",
    "LAMOST_CATALOG = path.join(LAMOST_DIR, \"dr5_v3.fits\")\n",
    "LAMOST_COVERAGE = path.join(LAMOST_DIR, \"lamost_dr5_v3_coverage.csv\")\n",
    "LAMOST_QSO_CATALOG = path.join(LAMOST_DIR, \"dr4dr5_qso_massflagged_v04.fits\")"
   ]
  },
  {
   "cell_type": "markdown",
   "metadata": {},
   "source": [
    "# LAMOST DR5 General Catalog"
   ]
  },
  {
   "cell_type": "code",
   "execution_count": 3,
   "metadata": {},
   "outputs": [
    {
     "name": "stdout",
     "output_type": "stream",
     "text": [
      "Filename: data/lamost/dr5_v3.fits\n",
      "No.    Name      Ver    Type      Cards   Dimensions   Format\n",
      "  0  PRIMARY       1 PrimaryHDU      17   ()      \n",
      "  1                1 BinTableHDU    130   9026365R x 37C   [J, 19A, 10A, J, J, 40A, B, B, D, D, E, E, E, E, E, 16A, 20A, 20A, E, E, 25A, E, E, E, E, E, E, E, 16A, 10A, 60A, 60A, B, E, D, D, I]   \n"
     ]
    }
   ],
   "source": [
    "catalog_hdul = fits.open(LAMOST_CATALOG)\n",
    "catalog_hdul.info()\n",
    "\n",
    "catalog = catalog_hdul[1].data"
   ]
  },
  {
   "cell_type": "code",
   "execution_count": 4,
   "metadata": {},
   "outputs": [
    {
     "data": {
      "text/plain": [
       "(dtype('>i4'), dtype('<U40'), dtype('uint8'), dtype('uint8'))"
      ]
     },
     "execution_count": 4,
     "metadata": {},
     "output_type": "execute_result"
    }
   ],
   "source": [
    "catalog[\"lmjd\"].dtype, catalog[\"planid\"].dtype, catalog[\"spid\"].dtype, catalog[\"fiberid\"].dtype"
   ]
  },
  {
   "cell_type": "code",
   "execution_count": 5,
   "metadata": {},
   "outputs": [
    {
     "data": {
      "text/plain": [
       "True"
      ]
     },
     "execution_count": 5,
     "metadata": {},
     "output_type": "execute_result"
    }
   ],
   "source": [
    "np.all(catalog[\"lmjd\"] - 1 == catalog[\"mjd\"])"
   ]
  },
  {
   "cell_type": "code",
   "execution_count": 6,
   "metadata": {},
   "outputs": [
    {
     "name": "stderr",
     "output_type": "stream",
     "text": [
      "/data/podondra/qso/venv/lib/python3.5/site-packages/numpy/lib/arraysetops.py:568: FutureWarning: elementwise comparison failed; returning scalar instead, but in the future will perform elementwise comparison\n",
      "  mask |= (ar1 == a)\n"
     ]
    },
    {
     "name": "stdout",
     "output_type": "stream",
     "text": [
      "<class 'pandas.core.frame.DataFrame'>\n",
      "MultiIndex: 9026365 entries, (B5591606, 55916, 1, 1) to (kepler08F56096, 56096, 16, 250)\n",
      "Data columns (total 2 columns):\n",
      "wavemax    float32\n",
      "wavemin    float32\n",
      "dtypes: float32(2)\n",
      "memory usage: 129.2+ MB\n"
     ]
    },
    {
     "data": {
      "text/html": [
       "<div>\n",
       "<style scoped>\n",
       "    .dataframe tbody tr th:only-of-type {\n",
       "        vertical-align: middle;\n",
       "    }\n",
       "\n",
       "    .dataframe tbody tr th {\n",
       "        vertical-align: top;\n",
       "    }\n",
       "\n",
       "    .dataframe thead th {\n",
       "        text-align: right;\n",
       "    }\n",
       "</style>\n",
       "<table border=\"1\" class=\"dataframe\">\n",
       "  <thead>\n",
       "    <tr style=\"text-align: right;\">\n",
       "      <th></th>\n",
       "      <th></th>\n",
       "      <th></th>\n",
       "      <th></th>\n",
       "      <th>wavemax</th>\n",
       "      <th>wavemin</th>\n",
       "    </tr>\n",
       "    <tr>\n",
       "      <th>planid</th>\n",
       "      <th>lmjd</th>\n",
       "      <th>spid</th>\n",
       "      <th>fiberid</th>\n",
       "      <th></th>\n",
       "      <th></th>\n",
       "    </tr>\n",
       "  </thead>\n",
       "  <tbody>\n",
       "    <tr>\n",
       "      <td rowspan=\"5\" valign=\"top\">B5591606</td>\n",
       "      <td rowspan=\"5\" valign=\"top\">55916</td>\n",
       "      <td rowspan=\"5\" valign=\"top\">1</td>\n",
       "      <td>1</td>\n",
       "      <td>9099.134766</td>\n",
       "      <td>3699.986328</td>\n",
       "    </tr>\n",
       "    <tr>\n",
       "      <td>2</td>\n",
       "      <td>9099.134766</td>\n",
       "      <td>3699.986328</td>\n",
       "    </tr>\n",
       "    <tr>\n",
       "      <td>3</td>\n",
       "      <td>9099.134766</td>\n",
       "      <td>3699.986328</td>\n",
       "    </tr>\n",
       "    <tr>\n",
       "      <td>4</td>\n",
       "      <td>9099.134766</td>\n",
       "      <td>3699.986328</td>\n",
       "    </tr>\n",
       "    <tr>\n",
       "      <td>5</td>\n",
       "      <td>9099.134766</td>\n",
       "      <td>3699.986328</td>\n",
       "    </tr>\n",
       "  </tbody>\n",
       "</table>\n",
       "</div>"
      ],
      "text/plain": [
       "                                 wavemax      wavemin\n",
       "planid   lmjd  spid fiberid                          \n",
       "B5591606 55916 1    1        9099.134766  3699.986328\n",
       "                    2        9099.134766  3699.986328\n",
       "                    3        9099.134766  3699.986328\n",
       "                    4        9099.134766  3699.986328\n",
       "                    5        9099.134766  3699.986328"
      ]
     },
     "execution_count": 6,
     "metadata": {},
     "output_type": "execute_result"
    }
   ],
   "source": [
    "catalog_df = pd.read_csv(\n",
    "    LAMOST_COVERAGE,\n",
    "    index_col=[\"planid\", \"lmjd\", \"spid\", \"fiberid\"],\n",
    "    dtype={\"wavemax\": \"f4\", \"wavemin\": \"f4\"}\n",
    ").sort_index()\n",
    "catalog_df.info()\n",
    "catalog_df.head()"
   ]
  },
  {
   "cell_type": "markdown",
   "metadata": {},
   "source": [
    "## Analysis"
   ]
  },
  {
   "cell_type": "code",
   "execution_count": 7,
   "metadata": {},
   "outputs": [
    {
     "data": {
      "text/plain": [
       "(3839.7244, 3.5843)"
      ]
     },
     "execution_count": 7,
     "metadata": {},
     "output_type": "execute_result"
    },
    {
     "data": {
      "image/png": "[encoded data removed]",
      "text/plain": [
       "<Figure size 432x288 with 1 Axes>"
      ]
     },
     "metadata": {
      "needs_background": "light"
     },
     "output_type": "display_data"
    }
   ],
   "source": [
    "catalog_df[\"wavemin\"].plot.hist(log=True)\n",
    "wavemin = catalog_df[\"wavemin\"].max()\n",
    "wavemin, np.log10(wavemin)"
   ]
  },
  {
   "cell_type": "code",
   "execution_count": 8,
   "metadata": {},
   "outputs": [
    {
     "data": {
      "text/plain": [
       "(8914.597, 3.9501016)"
      ]
     },
     "execution_count": 8,
     "metadata": {},
     "output_type": "execute_result"
    },
    {
     "data": {
      "image/png": "[encoded data removed]",
      "text/plain": [
       "<Figure size 432x288 with 1 Axes>"
      ]
     },
     "metadata": {
      "needs_background": "light"
     },
     "output_type": "display_data"
    }
   ],
   "source": [
    "catalog_df[\"wavemax\"].plot.hist(log=True)\n",
    "wavemax = catalog_df[\"wavemax\"].min()\n",
    "wavemax, np.log10(wavemax)"
   ]
  },
  {
   "cell_type": "code",
   "execution_count": 9,
   "metadata": {},
   "outputs": [
    {
     "data": {
      "text/plain": [
       "(array([3699.9863, 3700.8384, 3701.6907, ..., 9094.945 , 9097.04  ,\n",
       "        9099.135 ], dtype=float32),\n",
       " array([3.5682   , 3.5683002, 3.5684001, ..., 3.9588   , 3.9589002,\n",
       "        3.959    ], dtype=float32))"
      ]
     },
     "execution_count": 9,
     "metadata": {},
     "output_type": "execute_result"
    }
   ],
   "source": [
    "random_spec = catalog_df.sample().index[0]\n",
    "filepath = path.join(LAMOST_DR5, lamost.get_dr_path(*random_spec))\n",
    "\n",
    "with fits.open(filepath) as hdul:\n",
    "    header = hdul[0].header\n",
    "    data = hdul[0].data\n",
    "    lam = data[2]\n",
    "    loglam = np.log10(lam)\n",
    "\n",
    "lam, loglam"
   ]
  },
  {
   "cell_type": "code",
   "execution_count": 10,
   "metadata": {},
   "outputs": [
    {
     "data": {
      "text/plain": [
       "array([1.0013580e-04, 9.9897385e-05, 9.9897385e-05, ..., 9.9897385e-05,\n",
       "       1.0013580e-04, 9.9897385e-05], dtype=float32)"
      ]
     },
     "execution_count": 10,
     "metadata": {},
     "output_type": "execute_result"
    }
   ],
   "source": [
    "np.diff(loglam)"
   ]
  },
  {
   "cell_type": "code",
   "execution_count": 11,
   "metadata": {},
   "outputs": [
    {
     "data": {
      "text/plain": [
       "array([3.5843   , 3.5844002, 3.5845   , ..., 3.9499002, 3.95     ,\n",
       "       3.9501002], dtype=float32)"
      ]
     },
     "execution_count": 11,
     "metadata": {},
     "output_type": "execute_result"
    }
   ],
   "source": [
    "EPS = 0.00005\n",
    "loglam[(WAVEMIN - EPS <= loglam) & (loglam <= WAVEMAX + EPS)]"
   ]
  },
  {
   "cell_type": "markdown",
   "metadata": {},
   "source": [
    "# LAMOST DR4 & DR5 Quasar Catalog"
   ]
  },
  {
   "cell_type": "code",
   "execution_count": 12,
   "metadata": {},
   "outputs": [
    {
     "name": "stdout",
     "output_type": "stream",
     "text": [
      "Filename: data/lamost/dr4dr5_qso_massflagged_v04.fits\n",
      "No.    Name      Ver    Type      Cards   Dimensions   Format\n",
      "  0  PRIMARY       1 PrimaryHDU      16   (5576,)   uint8   \n",
      "  1  /Users/yaosu/acadOSciChina/major/data_and_resul/lamost/dr4dr5_par...    1 BinTableHDU    216   19253R x 102C   [J, 10A, 19A, D, D, J, 18A, I, I, D, I, 4A, D, I, D, I, D, D, D, D, D, D, D, D, D, D, D, D, D, D, D, E, D, I, D, D, D, D, D, D, D, D, D, D, D, D, D, E, D, I, D, D, D, D, D, D, D, D, D, D, D, D, D, E, D, I, D, D, D, D, D, D, D, D, D, D, D, D, E, D, I, D, D, D, D, D, D, D, D, D, 18A, 21A, D, D, D, D, 21A, D, D, D, D, D]   \n"
     ]
    }
   ],
   "source": [
    "qso_hdul = fits.open(LAMOST_QSO_CATALOG)\n",
    "qso_hdul.info()\n",
    "\n",
    "qso_catalog = qso_hdul[1].data"
   ]
  },
  {
   "cell_type": "code",
   "execution_count": 13,
   "metadata": {},
   "outputs": [
    {
     "data": {
      "text/plain": [
       "(dtype('<U18'), dtype('>i4'), dtype('>i2'), dtype('>i2'))"
      ]
     },
     "execution_count": 13,
     "metadata": {},
     "output_type": "execute_result"
    }
   ],
   "source": [
    "qso_catalog[\"planid\"].dtype, qso_catalog[\"lmjd\"].dtype, qso_catalog[\"spid\"].dtype, qso_catalog[\"fiberid\"].dtype"
   ]
  },
  {
   "cell_type": "code",
   "execution_count": 14,
   "metadata": {},
   "outputs": [
    {
     "data": {
      "text/plain": [
       "(18831,)"
      ]
     },
     "execution_count": 14,
     "metadata": {},
     "output_type": "execute_result"
    }
   ],
   "source": [
    "qso_multiindex = pd.MultiIndex.from_arrays(\n",
    "    [\n",
    "        qso_catalog[\"planid\"],\n",
    "        qso_catalog[\"lmjd\"].astype(\"i4\"),\n",
    "        qso_catalog[\"spid\"].astype(\"i2\"),\n",
    "        qso_catalog[\"fiberid\"].astype(\"i2\"),\n",
    "    ],\n",
    "    names=[\"planid\", \"lmjd\", \"spid\", \"fiberid\"]\n",
    ")\n",
    "\n",
    "qso_missing = qso_multiindex.difference(catalog_df.index)\n",
    "\n",
    "qso_multiindex = qso_multiindex.difference(qso_missing)\n",
    "qso_multiindex.shape"
   ]
  },
  {
   "cell_type": "code",
   "execution_count": 15,
   "metadata": {},
   "outputs": [
    {
     "data": {
      "text/plain": [
       "(422,)"
      ]
     },
     "execution_count": 15,
     "metadata": {},
     "output_type": "execute_result"
    }
   ],
   "source": [
    "qso_missing.shape"
   ]
  },
  {
   "cell_type": "code",
   "execution_count": 16,
   "metadata": {},
   "outputs": [
    {
     "data": {
      "text/html": [
       "<div>\n",
       "<style scoped>\n",
       "    .dataframe tbody tr th:only-of-type {\n",
       "        vertical-align: middle;\n",
       "    }\n",
       "\n",
       "    .dataframe tbody tr th {\n",
       "        vertical-align: top;\n",
       "    }\n",
       "\n",
       "    .dataframe thead th {\n",
       "        text-align: right;\n",
       "    }\n",
       "</style>\n",
       "<table border=\"1\" class=\"dataframe\">\n",
       "  <thead>\n",
       "    <tr style=\"text-align: right;\">\n",
       "      <th></th>\n",
       "      <th></th>\n",
       "      <th></th>\n",
       "      <th></th>\n",
       "      <th>wavemax</th>\n",
       "      <th>wavemin</th>\n",
       "      <th>qso</th>\n",
       "    </tr>\n",
       "    <tr>\n",
       "      <th>planid</th>\n",
       "      <th>lmjd</th>\n",
       "      <th>spid</th>\n",
       "      <th>fiberid</th>\n",
       "      <th></th>\n",
       "      <th></th>\n",
       "      <th></th>\n",
       "    </tr>\n",
       "  </thead>\n",
       "  <tbody>\n",
       "    <tr>\n",
       "      <td rowspan=\"5\" valign=\"top\">B5591606</td>\n",
       "      <td rowspan=\"5\" valign=\"top\">55916</td>\n",
       "      <td rowspan=\"5\" valign=\"top\">1</td>\n",
       "      <td>1</td>\n",
       "      <td>9099.134766</td>\n",
       "      <td>3699.986328</td>\n",
       "      <td>False</td>\n",
       "    </tr>\n",
       "    <tr>\n",
       "      <td>2</td>\n",
       "      <td>9099.134766</td>\n",
       "      <td>3699.986328</td>\n",
       "      <td>False</td>\n",
       "    </tr>\n",
       "    <tr>\n",
       "      <td>3</td>\n",
       "      <td>9099.134766</td>\n",
       "      <td>3699.986328</td>\n",
       "      <td>False</td>\n",
       "    </tr>\n",
       "    <tr>\n",
       "      <td>4</td>\n",
       "      <td>9099.134766</td>\n",
       "      <td>3699.986328</td>\n",
       "      <td>False</td>\n",
       "    </tr>\n",
       "    <tr>\n",
       "      <td>5</td>\n",
       "      <td>9099.134766</td>\n",
       "      <td>3699.986328</td>\n",
       "      <td>False</td>\n",
       "    </tr>\n",
       "    <tr>\n",
       "      <td>...</td>\n",
       "      <td>...</td>\n",
       "      <td>...</td>\n",
       "      <td>...</td>\n",
       "      <td>...</td>\n",
       "      <td>...</td>\n",
       "      <td>...</td>\n",
       "    </tr>\n",
       "    <tr>\n",
       "      <td rowspan=\"5\" valign=\"top\">kepler08F56096</td>\n",
       "      <td rowspan=\"5\" valign=\"top\">56096</td>\n",
       "      <td rowspan=\"5\" valign=\"top\">16</td>\n",
       "      <td>246</td>\n",
       "      <td>9099.134766</td>\n",
       "      <td>3699.986328</td>\n",
       "      <td>False</td>\n",
       "    </tr>\n",
       "    <tr>\n",
       "      <td>247</td>\n",
       "      <td>9099.134766</td>\n",
       "      <td>3699.986328</td>\n",
       "      <td>False</td>\n",
       "    </tr>\n",
       "    <tr>\n",
       "      <td>248</td>\n",
       "      <td>9099.134766</td>\n",
       "      <td>3699.986328</td>\n",
       "      <td>False</td>\n",
       "    </tr>\n",
       "    <tr>\n",
       "      <td>249</td>\n",
       "      <td>9099.134766</td>\n",
       "      <td>3699.986328</td>\n",
       "      <td>False</td>\n",
       "    </tr>\n",
       "    <tr>\n",
       "      <td>250</td>\n",
       "      <td>9099.134766</td>\n",
       "      <td>3699.986328</td>\n",
       "      <td>False</td>\n",
       "    </tr>\n",
       "  </tbody>\n",
       "</table>\n",
       "<p>9026365 rows × 3 columns</p>\n",
       "</div>"
      ],
      "text/plain": [
       "                                       wavemax      wavemin    qso\n",
       "planid         lmjd  spid fiberid                                 \n",
       "B5591606       55916 1    1        9099.134766  3699.986328  False\n",
       "                          2        9099.134766  3699.986328  False\n",
       "                          3        9099.134766  3699.986328  False\n",
       "                          4        9099.134766  3699.986328  False\n",
       "                          5        9099.134766  3699.986328  False\n",
       "...                                        ...          ...    ...\n",
       "kepler08F56096 56096 16   246      9099.134766  3699.986328  False\n",
       "                          247      9099.134766  3699.986328  False\n",
       "                          248      9099.134766  3699.986328  False\n",
       "                          249      9099.134766  3699.986328  False\n",
       "                          250      9099.134766  3699.986328  False\n",
       "\n",
       "[9026365 rows x 3 columns]"
      ]
     },
     "execution_count": 16,
     "metadata": {},
     "output_type": "execute_result"
    }
   ],
   "source": [
    "catalog_df[\"qso\"] = False\n",
    "catalog_df.loc[qso_multiindex, \"qso\"] = True\n",
    "catalog_df"
   ]
  },
  {
   "cell_type": "code",
   "execution_count": 17,
   "metadata": {},
   "outputs": [
    {
     "name": "stdout",
     "output_type": "stream",
     "text": [
      "Filename: data/lamost/lamost_dr5_v3/20160313/HD131318N132328M01/spec-57461-HD131318N132328M01_sp03-118.fits.gz\n",
      "No.    Name      Ver    Type      Cards   Dimensions   Format\n",
      "  0  Flux          1 PrimaryHDU     127   (3909, 5)   float32   \n"
     ]
    },
    {
     "data": {
      "image/png": "[encoded data removed]",
      "text/plain": [
       "<Figure size 432x288 with 1 Axes>"
      ]
     },
     "metadata": {
      "needs_background": "light"
     },
     "output_type": "display_data"
    }
   ],
   "source": [
    "def plot_spec(planid, lmjd, spid, fiberid):\n",
    "    dr_path = lamost.get_dr_path(planid, lmjd, spid, fiberid)\n",
    "    filepath = path.join(LAMOST_DR5, dr_path)\n",
    "    \n",
    "    with fits.open(filepath) as hdul:\n",
    "        hdul.info()\n",
    "        data = hdul[0].data\n",
    "        ax = plt.axes(xlabel=\"Wavelength\", ylabel=\"Flux\", title=dr_path)\n",
    "        ax.plot(data[2], data[0])\n",
    "\n",
    "\n",
    "qso = catalog_df[catalog_df[\"qso\"]].sample()\n",
    "planid, lmjd, spid, fiberid = qso.index[0]\n",
    "plot_spec(planid, lmjd, spid, fiberid)"
   ]
  }
 ],
 "metadata": {
  "kernelspec": {
   "display_name": "Python 3",
   "language": "python",
   "name": "python3"
  },
  "language_info": {
   "codemirror_mode": {
    "name": "ipython",
    "version": 3
   },
   "file_extension": ".py",
   "mimetype": "text/x-python",
   "name": "python",
   "nbconvert_exporter": "python",
   "pygments_lexer": "ipython3",
   "version": "3.5.3"
  }
 },
 "nbformat": 4,
 "nbformat_minor": 4
}
